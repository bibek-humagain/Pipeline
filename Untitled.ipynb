{
 "cells": [
  {
   "cell_type": "code",
   "execution_count": 1,
   "metadata": {},
   "outputs": [],
   "source": [
    "from collections import defaultdict, Counter\n",
    "from sklearn.model_selection import GridSearchCV, train_test_split\n",
    "from sklearn.linear_model import LogisticRegression\n",
    "from sklearn.neighbors import KNeighborsClassifier\n",
    "from sklearn.naive_bayes import GaussianNB\n",
    "from sklearn.svm import SVC\n",
    "from sklearn.metrics import mean_absolute_error\n",
    "from xgboost import XGBRegressor\n",
    "from sklearn.metrics import make_scorer, accuracy_score, confusion_matrix\n",
    "from sklearn.ensemble import RandomForestClassifier\n",
    "from sklearn import preprocessing\n",
    "import matplotlib.pyplot as plt\n",
    "import seaborn as sns\n",
    "import re\n",
    "import pandas as pd\n",
    "import numpy as np\n",
    "from sklearn.tree import DecisionTreeClassifier\n",
    "import warnings\n",
    "warnings.simplefilter(action='ignore', category=FutureWarning)\n",
    "\n",
    "parameters = {'n_estimators': [4, 6, 9],\n",
    "              'max_features': ['log2', 'sqrt', 'auto'],\n",
    "              'criterion': ['entropy', 'gini'],\n",
    "              'max_depth': [2, 3, 5, 10],\n",
    "              'min_samples_split': [2, 3, 5],\n",
    "              'min_samples_leaf': [1, 5, 8]\n",
    "              }\n",
    "\n",
    "def Checker(x):\n",
    "    if type(x) is pd.DataFrame:\n",
    "        return 0\n",
    "    elif type(x) is pd.Series:\n",
    "        return 1\n",
    "    else:\n",
    "        return -1\n",
    "\n",
    "\n",
    "def dtype(data):\n",
    "    what = Checker(data)\n",
    "    if what == 0:\n",
    "        dtypes = data.dtypes.astype('str')\n",
    "        dtypes = dtypes.str.split(r'\\d').str[0]\n",
    "    else:\n",
    "        dtypes = str(data.dtypes)\n",
    "        dtypes = re.split(r'\\d', dtypes)[0]\n",
    "    return dtypes\n",
    "\n",
    "\n",
    "def split(x, pattern):\n",
    "    '''Regex pattern finds in data and returns match. Then, it is splitted accordingly.\n",
    "        \\d = digits\n",
    "        \\l = lowercase alphabet\n",
    "        \\p = uppercase alphabet\n",
    "        \\a = all alphabet\n",
    "        \\s = symbols and punctuation\n",
    "        \\e = end of sentence\n",
    "        '''\n",
    "    pattern2 = pattern.replace('\\d', '[0-9]').replace('\\l', '[a-z]').replace('\\p', '[A-Z]').replace('\\a', '[a-zA-Z]')        .replace('\\s', '[^0-9a-zA-Z]').replace('\\e', '(?:\\s|$)')\n",
    "\n",
    "    if dtype(x) != 'object':\n",
    "        print('Data is not string. Convert first')\n",
    "        return False\n",
    "\n",
    "    regex = re.compile(r'{}'.format(pattern))\n",
    "    if pattern == pattern2:\n",
    "        return x.str.split(pattern)\n",
    "    else:\n",
    "        return x.apply(lambda i: re.split(regex, i))\n",
    "\n",
    "\n",
    "def replace(x, pattern, with_=None):\n",
    "    '''Regex pattern finds in data and returns match. Then, it is replaced accordingly.\n",
    "        \\d = digits\n",
    "        \\l = lowercase alphabet\n",
    "        \\p = uppercase alphabet\n",
    "        \\a = all alphabet\n",
    "        \\s = symbols and punctuation\n",
    "        \\e = end of sentence\n",
    "        '''\n",
    "    if type(pattern) is list:\n",
    "        d = {}\n",
    "        for l in pattern:\n",
    "            d[l[0]] = l[1]\n",
    "        try:\n",
    "            return x.replace(d)\n",
    "        except:\n",
    "            return x.astype('str').replace(d)\n",
    "\n",
    "    pattern2 = pattern.replace('\\d', '[0-9]').replace('\\l', '[a-z]').replace('\\p', '[A-Z]').replace('\\a', '[a-zA-Z]')        .replace('\\s', '[^0-9a-zA-Z]').replace('\\e', '(?:\\s|$)')\n",
    "\n",
    "    if dtype(x) != 'object':\n",
    "        print('Data is not string. Convert first')\n",
    "        return False\n",
    "\n",
    "    regex = re.compile(r'{}'.format(pattern))\n",
    "    if pattern == pattern2:\n",
    "        return x.str.replace(pattern, with_)\n",
    "    else:\n",
    "        return x.apply(lambda i: re.sub(regex, with_, i))\n",
    "\n",
    "\n",
    "def hcat(*columns):\n",
    "    cols = []\n",
    "    for c in columns:\n",
    "        if c is None:\n",
    "            continue\n",
    "        if type(c) in (list, tuple):\n",
    "            for i in c:\n",
    "                if type(i) not in (pd.DataFrame, pd.Series):\n",
    "                    cols.append(pd.Series(i))\n",
    "                else:\n",
    "                    cols.append(i)\n",
    "        elif type(c) not in (pd.DataFrame, pd.Series):\n",
    "            cols.append(pd.Series(c))\n",
    "        else:\n",
    "            cols.append(c)\n",
    "    return pd.concat(cols, 1)\n",
    "\n",
    "\n",
    "def parse_col_json(df, column, key, nested):\n",
    "    \"\"\"\n",
    "    Args:\n",
    "        column: string\n",
    "            name of the column to be processed.\n",
    "        key: string\n",
    "            name of the dictionary key which needs to be extracted\n",
    "    \"\"\"\n",
    "    import json\n",
    "    for index, i in zip(df.index, df[column].apply(json.loads)):\n",
    "        list1 = []\n",
    "        males = []\n",
    "        females = []\n",
    "\n",
    "        for j in range(len(i)):\n",
    "            if nested:\n",
    "                if not(((i[j][\"department\"] == \"Directing\") and (i[j][\"job\"] == \"Director\"))):\n",
    "                    continue\n",
    "            name = i[j][key]\n",
    "            if \",\" in name:\n",
    "                name = name.replace(\",\", \" \")\n",
    "            if \" \" in name:\n",
    "                name = name.replace(\" \", \"_\")\n",
    "            list1.append(name)\n",
    "            if column==\"cast\":\n",
    "                if i[j][\"gender\"] == 1:\n",
    "                    females.append(name)\n",
    "                elif i[j][\"gender\"] == 2:\n",
    "                    males.append(name)\n",
    "        df.loc[index, column] = str(list1)\n",
    "        if column==\"cast\":\n",
    "            df.loc[index, \"actors\"] = str(males)\n",
    "            df.loc[index, \"actress\"] = str(females)\n",
    "\n",
    "\n",
    "def counts_elements(df, columns):\n",
    "    d = defaultdict(Counter)\n",
    "    for column in columns:\n",
    "        for el in df[column]:\n",
    "            l = eval(str(el))\n",
    "            for x in l:\n",
    "                d[column][x] += 1\n",
    "    return d\n",
    "\n",
    "\n",
    "def counts_vectorized(df, col, min=1, vocabulary=None):\n",
    "    from sklearn.feature_extraction.text import CountVectorizer\n",
    "    vectorizer = CountVectorizer(tokenizer=lambda x: x.split(\n",
    "        \",\"), min_df=min, vocabulary=vocabulary)\n",
    "    #analyze = vectorizer.build_analyzer()\n",
    "    #f = analyze(succ_movies.cast.iloc[0].strip(\"[]\"))\n",
    "    data = [x.strip(\"[]\") for x in df[col]]\n",
    "    #analyze([\"ciao, mamma, come, stai_oggi\", \"ehi, mamma, stai_oggi, cane\"])\n",
    "    vectorizer.fit(data)\n",
    "    counts = pd.DataFrame(vectorizer.transform(data).toarray())\n",
    "    counts.columns = [x.replace(\"'\", \"\")\n",
    "                      for x in vectorizer.get_feature_names()]\n",
    "    return counts\n",
    "\n",
    "\n",
    "def simplify(df, col, bins, group_names):\n",
    "    df[col] = df[col].fillna(-0.5)\n",
    "    categories = pd.cut(df[col], bins, labels=group_names)\n",
    "    df[col] = categories\n",
    "\n",
    "\n",
    "def encode_features(df):\n",
    "    features = ['year', 'runtime', 'budget', 'revenue',\n",
    "                'vote_average', 'popularity']\n",
    "\n",
    "    for feature in features:\n",
    "        le = preprocessing.LabelEncoder()\n",
    "        le = le.fit(df[feature])\n",
    "        df[feature] = le.transform(df[feature])\n",
    "    return df\n",
    "\n",
    "\n",
    "def testClassifier(clf, name, dict):\n",
    "    y_pred = []\n",
    "    if name == \"Gradient Boosting\":\n",
    "        y_pred = clf.fit(X_train, y_train, early_stopping_rounds=5,\n",
    "             eval_set=[(X_test, y_test)], verbose=False).predict(X_test)\n",
    "        y_pred = [round(value) for value in y_pred]\n",
    "    else:\n",
    "        clf = clf.fit(X_train, y_train)\n",
    "        y_pred = clf.predict(X_test)\n",
    "        \n",
    "    # Compute confusion matrix\n",
    "    CM = confusion_matrix(y_test, y_pred)\n",
    "\n",
    "    TN = CM[0][0]\n",
    "    FN = CM[1][0]\n",
    "    TP = CM[1][1]\n",
    "    FP = CM[0][1]\n",
    "\n",
    "    # Sensitivity, hit rate, recall, or true positive rate\n",
    "    TPR = TP/(TP+FN)\n",
    "    # Specificity or true negative rate\n",
    "    TNR = TN/(TN+FP) \n",
    "    # Precision or positive predictive value\n",
    "    PPV = TP/(TP+FP)\n",
    "    # Negative predictive value\n",
    "    NPV = TN/(TN+FN)\n",
    "    # Fall out or false positive rate\n",
    "    FPR = FP/(FP+TN)\n",
    "    # False negative rate\n",
    "    FNR = FN/(TP+FN)\n",
    "    # False discovery rate\n",
    "    FDR = FP/(TP+FP)\n",
    "    # Overall accuracy\n",
    "    ACC = (TP+TN)/(TP+FP+FN+TN)\n",
    "    print(\"{} Scores:\\n\".format(name))\n",
    "    print(\"Accuracy: {0:.2f} %\\nPrecision: {1:.2f} %\\nRecall: {2:.2f} %\\nFall out: {3:.2f} %\\nFalse Negative Rate: {4:.2f} %\\n\\n\"\n",
    "        .format(ACC.round(4)*100.0,PPV.round(4)*100.0,TPR.round(4)*100.0,FDR.round(4)*100.0,FNR.round(4)*100.0))\n",
    "\n",
    "    dict[\"classifier\"].append(name)\n",
    "    dict[\"accuracy\"].append(ACC.round(4)*100.0)\n",
    "    dict[\"fallout\"].append(FDR.round(4)*100.0)\n",
    "    dict[\"fnr\"].append(FNR.round(4)*100.0)"
   ]
  },
  {
   "cell_type": "code",
   "execution_count": 2,
   "metadata": {},
   "outputs": [],
   "source": [
    "movies = pd.read_csv('C:/Users/bibek/Desktop/tmdb_5000_movies.csv', index_col=3)\n",
    "credits = pd.read_csv('C:/Users/bibek/Desktop/tmdb_5000_credits.csv', index_col=0)\n",
    "\n",
    "movies.drop_duplicates(keep=\"first\", inplace=True)\n",
    "useless_col = ['homepage', 'original_title', 'original_language', 'overview',\n",
    "               'spoken_languages', 'keywords', 'status', 'tagline']\n",
    "movies.drop(useless_col, axis=1, inplace=True)\n",
    "\n",
    "credits.drop([\"title\"], axis=1, inplace=True)\n",
    "\n",
    "# Split the year from the date\n",
    "movies.release_date = pd.to_datetime(movies['release_date'])\n",
    "movies[\"year\"] = movies.release_date.dt.year\n",
    "\n",
    "# Changing the data type of the below mentioned columns and\n",
    "change_cols = ['budget', 'revenue',\"popularity\", \"runtime\", \"vote_average\", \"year\"]\n",
    "\n",
    "# replacing all the zeros from revenue and budget cols.\n",
    "movies[change_cols] = movies[change_cols].replace(0, np.nan)\n",
    "# dropping all the rows with na in the columns mentioned above in the list.\n",
    "movies.dropna(subset=change_cols, inplace=True)\n",
    "# filter useless records\n",
    "budget_filter = movies['budget'] > 1e6\n",
    "revenue_filter = movies['revenue'] > 1e6\n",
    "movies = movies[budget_filter & revenue_filter]\n",
    "\n",
    "movies = movies.join(credits)\n",
    "\n",
    "parse_col_json(movies, \"crew\", \"name\", True)\n",
    "movies.rename(columns={'crew': 'directors'}, inplace=True)\n",
    "parse_col_json(movies, 'genres', 'name', False)\n",
    "parse_col_json(movies, 'production_companies', 'name', False)\n",
    "parse_col_json(movies, 'cast', 'name', False)\n",
    "\n",
    "\n",
    "\n",
    "# changing data type\n",
    "movies[change_cols] = movies[change_cols].applymap(np.int64)\n",
    "\n",
    "#movies['profit'] = movies['revenue'] - movies['budget']\n",
    "\n",
    "# columns list usefull for later manipulation\n",
    "list_columns = [\"directors\", \"genres\",\n",
    "                \"production_companies\", \"cast\", \"actors\", \"actress\"]\n",
    "\n",
    "movies = movies[['title', 'genres', 'directors', 'production_companies',\n",
    "                 'year', 'cast', 'actors','actress', 'runtime', 'budget', 'revenue', 'popularity',\n",
    "                 'vote_average']]"
   ]
  },
  {
   "cell_type": "code",
   "execution_count": 3,
   "metadata": {},
   "outputs": [],
   "source": [
    "summary = counts_elements(movies, list_columns)\n",
    "directors = pd.Series(summary[\"directors\"], name=\"movies\")\n",
    "genres = pd.Series(summary[\"genres\"], name=\"movies\")\n",
    "p_companies = pd.Series(summary[\"production_companies\"], name=\"movies\")\n",
    "cast = pd.Series(summary[\"cast\"], name=\"movies\")\n",
    "\n",
    "actors = pd.Series(summary[\"actors\"], name=\"movies\")\n",
    "actress = pd.Series(summary[\"actress\"], name=\"movies\")"
   ]
  },
  {
   "cell_type": "code",
   "execution_count": 4,
   "metadata": {},
   "outputs": [],
   "source": [
    "# create new df based on a definition of successful movie:\n",
    "# \"it's successful when it earns the double it costs\"\n",
    "succ_movies = movies[movies[\"revenue\"] > movies[\"budget\"].apply(lambda x: 2*x)]\n",
    "succ_summary = counts_elements(succ_movies, list_columns)\n",
    "\n",
    "succ_directors = pd.Series(succ_summary[\"directors\"], name=\"succ_movies\")\n",
    "succ_genres = pd.Series(succ_summary[\"genres\"], name=\"succ_movies\")\n",
    "succ_p_companies = pd.Series(\n",
    "    succ_summary[\"production_companies\"], name=\"succ_movies\")\n",
    "succ_cast = pd.Series(succ_summary[\"cast\"], name=\"succ_movies\")\n",
    "\n",
    "succ_actors = pd.Series(succ_summary[\"actors\"], name=\"succ_movies\")\n",
    "succ_actress = pd.Series(succ_summary[\"actress\"], name=\"succ_movies\")\n"
   ]
  },
  {
   "cell_type": "code",
   "execution_count": 5,
   "metadata": {},
   "outputs": [],
   "source": [
    "# defining target variable\n",
    "movies[\"success\"] = movies.title.isin(succ_movies.title)"
   ]
  },
  {
   "cell_type": "code",
   "execution_count": 6,
   "metadata": {},
   "outputs": [
    {
     "data": {
      "image/png": "[encoded data removed]",
      "text/plain": [
       "<Figure size 432x720 with 2 Axes>"
      ]
     },
     "metadata": {
      "needs_background": "light"
     },
     "output_type": "display_data"
    }
   ],
   "source": [
    "fig, axes = plt.subplots(nrows=2, figsize=(6, 10))\n",
    "directors.nlargest(5).plot.barh(color=\"#99e699\", legend=True, ax=axes[0])\n",
    "succ_directors.nlargest(5).plot.barh(color=\"#1a8cff\", legend=True, ax=axes[1])\n",
    "plt.show()"
   ]
  },
  {
   "cell_type": "code",
   "execution_count": 7,
   "metadata": {},
   "outputs": [
    {
     "data": {
      "image/png": "[encoded data removed]",
      "text/plain": [
       "<Figure size 432x288 with 1 Axes>"
      ]
     },
     "metadata": {
      "needs_background": "light"
     },
     "output_type": "display_data"
    }
   ],
   "source": [
    "genres.plot.barh(color=\"#b3ecff\", legend=True)\n",
    "succ_genres.plot.barh(color=\"#1a8cff\", legend=True)\n",
    "plt.show()"
   ]
  },
  {
   "cell_type": "code",
   "execution_count": 8,
   "metadata": {},
   "outputs": [
    {
     "data": {
      "image/png": "[encoded data removed]",
      "text/plain": [
       "<Figure size 432x288 with 1 Axes>"
      ]
     },
     "metadata": {
      "needs_background": "light"
     },
     "output_type": "display_data"
    }
   ],
   "source": [
    "p_companies.nlargest(5).plot.barh(color=\"#b3ecff\", legend=True)\n",
    "succ_p_companies.nlargest(5).plot.barh(color=\"#1a8cff\", legend=True)\n",
    "plt.show()"
   ]
  },
  {
   "cell_type": "code",
   "execution_count": 9,
   "metadata": {},
   "outputs": [
    {
     "data": {
      "image/png": "[encoded data removed]",
      "text/plain": [
       "<Figure size 1152x864 with 2 Axes>"
      ]
     },
     "metadata": {
      "needs_background": "light"
     },
     "output_type": "display_data"
    }
   ],
   "source": [
    "fig, axes = plt.subplots(nrows=2, figsize=(16, 12))\n",
    "cast.nlargest(10).plot.barh(color=\"#99e699\", legend=True, ax=axes[0])\n",
    "succ_cast.nlargest(10).plot.barh(color=\"#1a8cff\", legend=True, ax=axes[1])\n",
    "plt.show()"
   ]
  },
  {
   "cell_type": "code",
   "execution_count": 10,
   "metadata": {},
   "outputs": [
    {
     "data": {
      "image/png": "[encoded data removed]",
      "text/plain": [
       "<Figure size 1152x864 with 2 Axes>"
      ]
     },
     "metadata": {
      "needs_background": "light"
     },
     "output_type": "display_data"
    }
   ],
   "source": [
    "fig, axes = plt.subplots(nrows=2, figsize=(16, 12))\n",
    "actress.nlargest(10).plot.barh(color=\"#99e699\", legend=True, ax=axes[0])\n",
    "succ_actress.nlargest(10).plot.barh(color=\"#1a8cff\", legend=True, ax=axes[1])\n",
    "plt.show()"
   ]
  },
  {
   "cell_type": "code",
   "execution_count": 11,
   "metadata": {},
   "outputs": [],
   "source": [
    "cast_counts = counts_vectorized(movies, \"cast\", 28)\n",
    "dir_counts = counts_vectorized(movies, \"directors\", 15)\n",
    "gen_counts = counts_vectorized(movies, \"genres\", 400)\n",
    "companies_counts = counts_vectorized(movies, \"production_companies\", 100)"
   ]
  },
  {
   "cell_type": "code",
   "execution_count": 12,
   "metadata": {},
   "outputs": [],
   "source": [
    "X=[]\n",
    "# concatenate vectors count\n",
    "X = hcat(movies.reset_index(), cast_counts, dir_counts,\n",
    "         gen_counts, companies_counts)"
   ]
  },
  {
   "cell_type": "code",
   "execution_count": 13,
   "metadata": {},
   "outputs": [],
   "source": [
    "X = X.drop(columns=[\"cast\", \"directors\", \"genres\",\n",
    "                    \"production_companies\", \"id\",\"actors\",\"actress\"])\n",
    "X = X.set_index(\"title\")"
   ]
  },
  {
   "cell_type": "code",
   "execution_count": 14,
   "metadata": {},
   "outputs": [],
   "source": [
    "simplify(X, \"year\", (1, 1998, 2005, 2016), [\"vecchio\", \"contemporaneo\", \"moderno\"])\n",
    "simplify(X, \"runtime\", (1, 72, 89, 120, 180, 250), [\"XS\", \"S\", \"M\", \"L\", \"XL\"])\n",
    "simplify(X, \"budget\", (1, 1e7, 3e7, 6e7, 1e9), [\"L\", \"M\", \"H\", \"VH\"])\n",
    "simplify(X, \"revenue\", (1, 2e7, 6e7, 1e8, 3e9), [\"L\", \"M\", \"H\", \"VH\"])\n",
    "simplify(X, \"popularity\", (-1, 11, 21, 876), [\"Low\", \"Medium\", \"High\"])\n",
    "simplify(X, \"vote_average\", (0, 4, 6, 10), [\"basso\", \"normale\", \"alto\"])\n",
    "\n",
    "y = X.success\n",
    "X = X.drop(columns=\"success\")\n",
    "# for one hot encoding\n",
    "X_h = pd.get_dummies(X)\n",
    "# label encoder\n",
    "X_l = encode_features(X)"
   ]
  },
  {
   "cell_type": "code",
   "execution_count": 15,
   "metadata": {},
   "outputs": [],
   "source": [
    "X_train, X_test, y_train, y_test = train_test_split(\n",
    "    X_l, y, test_size=0.2, random_state=1)\n",
    "mc_l = defaultdict(list)"
   ]
  },
  {
   "cell_type": "code",
   "execution_count": 16,
   "metadata": {},
   "outputs": [
    {
     "name": "stdout",
     "output_type": "stream",
     "text": [
      "Optimized RBF SVM Scores:\n",
      "\n",
      "Accuracy: 82.89 %\n",
      "Precision: 83.24 %\n",
      "Recall: 88.08 %\n",
      "Fall out: 16.76 %\n",
      "False Negative Rate: 11.92 %\n",
      "\n",
      "\n"
     ]
    }
   ],
   "source": [
    "# generate lists of parameters for GridSearch\n",
    "C_list = [C for C in (0.0001*(10**p) for p in range(1, 8))]\n",
    "gamma_l = [C for C in [0.1**n for n in range(1, 8)]]\n",
    "param_grid = {'C': C_list, 'gamma': gamma_l, 'kernel': ['rbf']}\n",
    "# Make grid search classifier\n",
    "clf = GridSearchCV(SVC(), param_grid, verbose=0, cv=5).fit(X_train, y_train)\n",
    "C = clf.best_params_['C']\n",
    "gamma = clf.best_params_['gamma']\n",
    "testClassifier(SVC(kernel='rbf', C=C, gamma=gamma), \"Optimized RBF SVM\",mc_l)"
   ]
  },
  {
   "cell_type": "code",
   "execution_count": 17,
   "metadata": {},
   "outputs": [
    {
     "name": "stdout",
     "output_type": "stream",
     "text": [
      "Logistic Regression Scores:\n",
      "\n",
      "Accuracy: 69.80 %\n",
      "Precision: 71.47 %\n",
      "Recall: 79.36 %\n",
      "Fall out: 28.53 %\n",
      "False Negative Rate: 20.64 %\n",
      "\n",
      "\n"
     ]
    }
   ],
   "source": [
    "testClassifier(LogisticRegression(), \"Logistic Regression\",mc_l)\n"
   ]
  },
  {
   "cell_type": "code",
   "execution_count": 18,
   "metadata": {},
   "outputs": [
    {
     "name": "stdout",
     "output_type": "stream",
     "text": [
      "Decision Tree Scores:\n",
      "\n",
      "Accuracy: 78.36 %\n",
      "Precision: 81.90 %\n",
      "Recall: 80.23 %\n",
      "Fall out: 18.10 %\n",
      "False Negative Rate: 19.77 %\n",
      "\n",
      "\n"
     ]
    }
   ],
   "source": [
    "testClassifier(DecisionTreeClassifier(), \"Decision Tree\",mc_l)"
   ]
  },
  {
   "cell_type": "code",
   "execution_count": 19,
   "metadata": {},
   "outputs": [
    {
     "name": "stdout",
     "output_type": "stream",
     "text": [
      "Random Forest Scores:\n",
      "\n",
      "Accuracy: 82.89 %\n",
      "Precision: 83.80 %\n",
      "Recall: 87.21 %\n",
      "Fall out: 16.20 %\n",
      "False Negative Rate: 12.79 %\n",
      "\n",
      "\n"
     ]
    }
   ],
   "source": [
    "clf = RandomForestClassifier()\n",
    "# Type of scoring used to compare parameter combinations\n",
    "acc_scorer = make_scorer(accuracy_score)\n",
    "# Run the grid search\n",
    "grid_obj = GridSearchCV(\n",
    "    clf, parameters, scoring=acc_scorer).fit(X_train, y_train)\n",
    "# Set the clf to the best combination of parameters\n",
    "testClassifier(grid_obj.best_estimator_, \"Random Forest\",mc_l)"
   ]
  },
  {
   "cell_type": "code",
   "execution_count": 20,
   "metadata": {},
   "outputs": [
    {
     "name": "stdout",
     "output_type": "stream",
     "text": [
      "Gradient Boosting Scores:\n",
      "\n",
      "Accuracy: 85.07 %\n",
      "Precision: 85.32 %\n",
      "Recall: 89.53 %\n",
      "Fall out: 14.68 %\n",
      "False Negative Rate: 10.47 %\n",
      "\n",
      "\n"
     ]
    }
   ],
   "source": [
    "testClassifier(XGBRegressor(n_estimators=1000, learning_rate=0.05), \"Gradient Boosting\",mc_l)\n"
   ]
  },
  {
   "cell_type": "code",
   "execution_count": 21,
   "metadata": {},
   "outputs": [],
   "source": [
    "from sklearn.decomposition import PCA\n",
    "pca = PCA(.85) # retain 85% of the variance\n",
    "X_r = pca.fit_transform(X_l)\n"
   ]
  },
  {
   "cell_type": "code",
   "execution_count": 22,
   "metadata": {},
   "outputs": [
    {
     "name": "stdout",
     "output_type": "stream",
     "text": [
      "Optimized RBF SVM Scores:\n",
      "\n",
      "Accuracy: 83.89 %\n",
      "Precision: 85.63 %\n",
      "Recall: 86.63 %\n",
      "Fall out: 14.37 %\n",
      "False Negative Rate: 13.37 %\n",
      "\n",
      "\n",
      "Random Forest Scores:\n",
      "\n",
      "Accuracy: 82.89 %\n",
      "Precision: 82.70 %\n",
      "Recall: 88.95 %\n",
      "Fall out: 17.30 %\n",
      "False Negative Rate: 11.05 %\n",
      "\n",
      "\n",
      "Gradient Boosting Scores:\n",
      "\n",
      "Accuracy: 82.05 %\n",
      "Precision: 83.01 %\n",
      "Recall: 86.63 %\n",
      "Fall out: 16.99 %\n",
      "False Negative Rate: 13.37 %\n",
      "\n",
      "\n"
     ]
    }
   ],
   "source": [
    "X_train, X_test, y_train, y_test = train_test_split(\n",
    "    X_r, y, test_size=0.2, random_state=1)\n",
    "mc_r = defaultdict(list)\n",
    "\n",
    "### SVM\n",
    "testClassifier(SVC(kernel='rbf', C=C, gamma=gamma), \"Optimized RBF SVM\",mc_r)\n",
    "\n",
    "### Random Forest\n",
    "clf = RandomForestClassifier()\n",
    "acc_scorer = make_scorer(accuracy_score)\n",
    "grid_obj = GridSearchCV(clf, parameters, scoring=acc_scorer).fit(X_train, y_train)\n",
    "testClassifier(grid_obj.best_estimator_, \"Random Forest\",mc_r)\n",
    "\n",
    "### XGBR\n",
    "testClassifier(XGBRegressor(n_estimators=1000, learning_rate=0.05), \"Gradient Boosting\",mc_r)\n",
    "\n",
    "comparison_r = pd.DataFrame(mc_r, columns=['classifier','accuracy','fallout'])"
   ]
  },
  {
   "cell_type": "code",
   "execution_count": 23,
   "metadata": {},
   "outputs": [
    {
     "name": "stdout",
     "output_type": "stream",
     "text": [
      "Optimized RBF SVM Scores:\n",
      "\n",
      "Accuracy: 84.06 %\n",
      "Precision: 84.11 %\n",
      "Recall: 89.24 %\n",
      "Fall out: 15.89 %\n",
      "False Negative Rate: 10.76 %\n",
      "\n",
      "\n",
      "Random Forest Scores:\n",
      "\n",
      "Accuracy: 83.72 %\n",
      "Precision: 81.27 %\n",
      "Recall: 93.31 %\n",
      "Fall out: 18.73 %\n",
      "False Negative Rate: 6.69 %\n",
      "\n",
      "\n",
      "Gradient Boosting Scores:\n",
      "\n",
      "Accuracy: 85.74 %\n",
      "Precision: 86.27 %\n",
      "Recall: 89.53 %\n",
      "Fall out: 13.73 %\n",
      "False Negative Rate: 10.47 %\n",
      "\n",
      "\n"
     ]
    }
   ],
   "source": [
    "X_train, X_test, y_train, y_test = train_test_split(\n",
    "    X_h, y, test_size=0.2, random_state=1)\n",
    "mc_h = defaultdict(list)\n",
    "\n",
    "### SVM\n",
    "testClassifier(SVC(kernel='rbf', C=C, gamma=gamma), \"Optimized RBF SVM\",mc_h)\n",
    "### Random Forest\n",
    "clf = RandomForestClassifier()\n",
    "acc_scorer = make_scorer(accuracy_score)\n",
    "grid_obj = GridSearchCV(clf, parameters, scoring=acc_scorer).fit(X_train, y_train)\n",
    "testClassifier(grid_obj.best_estimator_, \"Random Forest\",mc_h)\n",
    "### XGBR\n",
    "testClassifier(XGBRegressor(n_estimators=1000, learning_rate=0.05), \"Gradient Boosting\",mc_h)\n",
    "\n",
    "comparison_h = pd.DataFrame(mc_h, columns=['classifier','accuracy','fallout'])"
   ]
  },
  {
   "cell_type": "code",
   "execution_count": 24,
   "metadata": {},
   "outputs": [
    {
     "ename": "NameError",
     "evalue": "name 'comparison_l' is not defined",
     "output_type": "error",
     "traceback": [
      "\u001b[1;31m---------------------------------------------------------------------------\u001b[0m",
      "\u001b[1;31mNameError\u001b[0m                                 Traceback (most recent call last)",
      "\u001b[1;32m<ipython-input-24-852487df554b>\u001b[0m in \u001b[0;36m<module>\u001b[1;34m\u001b[0m\n\u001b[0;32m      1\u001b[0m \u001b[0mcomparison_h\u001b[0m \u001b[1;33m=\u001b[0m \u001b[0mcomparison_h\u001b[0m\u001b[1;33m.\u001b[0m\u001b[0mset_index\u001b[0m\u001b[1;33m(\u001b[0m\u001b[1;34m\"classifier\"\u001b[0m\u001b[1;33m)\u001b[0m\u001b[1;33m\u001b[0m\u001b[1;33m\u001b[0m\u001b[0m\n\u001b[0;32m      2\u001b[0m \u001b[0mcomparison_r\u001b[0m \u001b[1;33m=\u001b[0m \u001b[0mcomparison_r\u001b[0m\u001b[1;33m.\u001b[0m\u001b[0mset_index\u001b[0m\u001b[1;33m(\u001b[0m\u001b[1;34m\"classifier\"\u001b[0m\u001b[1;33m)\u001b[0m\u001b[1;33m\u001b[0m\u001b[1;33m\u001b[0m\u001b[0m\n\u001b[1;32m----> 3\u001b[1;33m \u001b[0mcomparison_l\u001b[0m \u001b[1;33m=\u001b[0m \u001b[0mcomparison_l\u001b[0m\u001b[1;33m.\u001b[0m\u001b[0mset_index\u001b[0m\u001b[1;33m(\u001b[0m\u001b[1;34m\"classifier\"\u001b[0m\u001b[1;33m)\u001b[0m\u001b[1;33m\u001b[0m\u001b[1;33m\u001b[0m\u001b[0m\n\u001b[0m\u001b[0;32m      4\u001b[0m \u001b[0mcomparison\u001b[0m \u001b[1;33m=\u001b[0m \u001b[0mcomparison_h\u001b[0m\u001b[1;33m.\u001b[0m\u001b[0mjoin\u001b[0m\u001b[1;33m(\u001b[0m\u001b[0mcomparison_r\u001b[0m\u001b[1;33m,\u001b[0m\u001b[0mrsuffix\u001b[0m \u001b[1;33m=\u001b[0m \u001b[1;34m\"_pca\"\u001b[0m\u001b[1;33m,\u001b[0m\u001b[0mlsuffix\u001b[0m\u001b[1;33m=\u001b[0m\u001b[1;34m\"_1hot\"\u001b[0m\u001b[1;33m)\u001b[0m\u001b[1;33m\u001b[0m\u001b[1;33m\u001b[0m\u001b[0m\n\u001b[0;32m      5\u001b[0m \u001b[0mcomparison\u001b[0m \u001b[1;33m=\u001b[0m \u001b[0mcomparison\u001b[0m\u001b[1;33m.\u001b[0m\u001b[0mjoin\u001b[0m\u001b[1;33m(\u001b[0m\u001b[0mcomparison_l\u001b[0m\u001b[1;33m,\u001b[0m\u001b[0mrsuffix\u001b[0m \u001b[1;33m=\u001b[0m \u001b[1;34m\"_label\"\u001b[0m\u001b[1;33m)\u001b[0m\u001b[1;33m\u001b[0m\u001b[1;33m\u001b[0m\u001b[0m\n",
      "\u001b[1;31mNameError\u001b[0m: name 'comparison_l' is not defined"
     ]
    }
   ],
   "source": [
    "comparison_h = comparison_h.set_index(\"classifier\")\n",
    "comparison_r = comparison_r.set_index(\"classifier\")\n",
    "comparison_l = comparison_l.set_index(\"classifier\")\n",
    "comparison = comparison_h.join(comparison_r,rsuffix = \"_pca\",lsuffix=\"_1hot\")\n",
    "comparison = comparison.join(comparison_l,rsuffix = \"_label\")\n",
    "comparison.plot.bar()\n",
    "plt.show()"
   ]
  },
  {
   "cell_type": "code",
   "execution_count": null,
   "metadata": {},
   "outputs": [],
   "source": []
  }
 ],
 "metadata": {
  "kernelspec": {
   "display_name": "Python 3",
   "language": "python",
   "name": "python3"
  },
  "language_info": {
   "codemirror_mode": {
    "name": "ipython",
    "version": 3
   },
   "file_extension": ".py",
   "mimetype": "text/x-python",
   "name": "python",
   "nbconvert_exporter": "python",
   "pygments_lexer": "ipython3",
   "version": "3.7.3"
  }
 },
 "nbformat": 4,
 "nbformat_minor": 2
}
