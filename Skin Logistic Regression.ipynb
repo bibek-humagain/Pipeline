{
 "cells": [
  {
   "cell_type": "code",
   "execution_count": 1,
   "metadata": {},
   "outputs": [],
   "source": [
    "import numpy as np\n",
    "import matplotlib.pyplot as plt\n",
    "from sklearn.model_selection import train_test_split\n",
    "from sklearn.model_selection import GridSearchCV\n",
    "from sklearn.linear_model import SGDClassifier\n",
    "from sklearn.preprocessing import MinMaxScaler\n",
    "from sklearn.preprocessing import OneHotEncoder"
   ]
  },
  {
   "cell_type": "code",
   "execution_count": 9,
   "metadata": {},
   "outputs": [
    {
     "data": {
      "text/plain": [
       "array([[ 74.,  85., 123.,   1.],\n",
       "       [ 73.,  84., 122.,   1.],\n",
       "       [ 72.,  83., 121.,   1.],\n",
       "       [ 70.,  81., 119.,   1.],\n",
       "       [ 70.,  81., 119.,   1.]])"
      ]
     },
     "execution_count": 9,
     "metadata": {},
     "output_type": "execute_result"
    }
   ],
   "source": [
    "Data = np.genfromtxt('Color.txt',delimiter='\\t',skip_header=1)\n",
    "Data[:5]"
   ]
  },
  {
   "cell_type": "code",
   "execution_count": 10,
   "metadata": {},
   "outputs": [],
   "source": [
    "X = Data[:,:-1]"
   ]
  },
  {
   "cell_type": "code",
   "execution_count": 11,
   "metadata": {},
   "outputs": [],
   "source": [
    "Y = Data[:,-1]"
   ]
  },
  {
   "cell_type": "code",
   "execution_count": 12,
   "metadata": {},
   "outputs": [
    {
     "data": {
      "text/plain": [
       "array([[ 74.,  85., 123.],\n",
       "       [ 73.,  84., 122.],\n",
       "       [ 72.,  83., 121.],\n",
       "       [ 70.,  81., 119.],\n",
       "       [ 70.,  81., 119.]])"
      ]
     },
     "execution_count": 12,
     "metadata": {},
     "output_type": "execute_result"
    }
   ],
   "source": [
    "X[:5]"
   ]
  },
  {
   "cell_type": "code",
   "execution_count": 13,
   "metadata": {},
   "outputs": [
    {
     "data": {
      "text/plain": [
       "array([1., 1., 1., 1., 1.])"
      ]
     },
     "execution_count": 13,
     "metadata": {},
     "output_type": "execute_result"
    }
   ],
   "source": [
    "Y[:5]"
   ]
  },
  {
   "cell_type": "code",
   "execution_count": 14,
   "metadata": {},
   "outputs": [
    {
     "data": {
      "text/plain": [
       "array([1., 2.])"
      ]
     },
     "execution_count": 14,
     "metadata": {},
     "output_type": "execute_result"
    }
   ],
   "source": [
    "np.unique(Y)"
   ]
  },
  {
   "cell_type": "code",
   "execution_count": 15,
   "metadata": {},
   "outputs": [],
   "source": [
    "Y = Y-1"
   ]
  },
  {
   "cell_type": "code",
   "execution_count": 16,
   "metadata": {},
   "outputs": [
    {
     "data": {
      "text/plain": [
       "array([0., 1.])"
      ]
     },
     "execution_count": 16,
     "metadata": {},
     "output_type": "execute_result"
    }
   ],
   "source": [
    "np.unique(Y)"
   ]
  },
  {
   "cell_type": "code",
   "execution_count": 17,
   "metadata": {},
   "outputs": [],
   "source": [
    "Y = np.expand_dims(Y,axis=1)"
   ]
  },
  {
   "cell_type": "code",
   "execution_count": 18,
   "metadata": {},
   "outputs": [
    {
     "data": {
      "text/plain": [
       "(245057, 1)"
      ]
     },
     "execution_count": 18,
     "metadata": {},
     "output_type": "execute_result"
    }
   ],
   "source": [
    "Y.shape"
   ]
  },
  {
   "cell_type": "code",
   "execution_count": 19,
   "metadata": {},
   "outputs": [],
   "source": [
    "XTr,XT,YTr,YT=train_test_split(X,Y,test_size=0.1)"
   ]
  },
  {
   "cell_type": "code",
   "execution_count": 20,
   "metadata": {},
   "outputs": [],
   "source": [
    "Encoder = OneHotEncoder()"
   ]
  },
  {
   "cell_type": "code",
   "execution_count": 21,
   "metadata": {},
   "outputs": [
    {
     "name": "stderr",
     "output_type": "stream",
     "text": [
      "/Users/mac/anaconda3/lib/python3.7/site-packages/sklearn/preprocessing/_encoders.py:368: FutureWarning: The handling of integer data will change in version 0.22. Currently, the categories are determined based on the range [0, max(values)], while in the future they will be determined based on the unique values.\n",
      "If you want the future behaviour and silence this warning, you can specify \"categories='auto'\".\n",
      "In case you used a LabelEncoder before this OneHotEncoder to convert the categories to integers, then you can now use the OneHotEncoder directly.\n",
      "  warnings.warn(msg, FutureWarning)\n"
     ]
    },
    {
     "data": {
      "text/plain": [
       "OneHotEncoder(categorical_features=None, categories=None,\n",
       "       dtype=<class 'numpy.float64'>, handle_unknown='error',\n",
       "       n_values=None, sparse=True)"
      ]
     },
     "execution_count": 21,
     "metadata": {},
     "output_type": "execute_result"
    }
   ],
   "source": [
    "Encoder.fit(XTr)"
   ]
  },
  {
   "cell_type": "code",
   "execution_count": 24,
   "metadata": {},
   "outputs": [
    {
     "data": {
      "text/plain": [
       "[array([  0.,   1.,   2.,   3.,   4.,   5.,   6.,   7.,   8.,   9.,  10.,\n",
       "         11.,  12.,  13.,  14.,  15.,  16.,  17.,  18.,  19.,  20.,  21.,\n",
       "         22.,  23.,  24.,  25.,  26.,  27.,  28.,  29.,  30.,  31.,  32.,\n",
       "         33.,  34.,  35.,  36.,  37.,  38.,  39.,  40.,  41.,  42.,  43.,\n",
       "         44.,  45.,  46.,  47.,  48.,  49.,  50.,  51.,  52.,  53.,  54.,\n",
       "         55.,  56.,  57.,  58.,  59.,  60.,  61.,  62.,  63.,  64.,  65.,\n",
       "         66.,  67.,  68.,  69.,  70.,  71.,  72.,  73.,  74.,  75.,  76.,\n",
       "         77.,  78.,  79.,  80.,  81.,  82.,  83.,  84.,  85.,  86.,  87.,\n",
       "         88.,  89.,  90.,  91.,  92.,  93.,  94.,  95.,  96.,  97.,  98.,\n",
       "         99., 100., 101., 102., 103., 104., 105., 106., 107., 108., 109.,\n",
       "        110., 111., 112., 113., 114., 115., 116., 117., 118., 119., 120.,\n",
       "        121., 122., 123., 124., 125., 126., 127., 128., 129., 130., 131.,\n",
       "        132., 133., 134., 135., 136., 137., 138., 139., 140., 141., 142.,\n",
       "        143., 144., 145., 146., 147., 148., 149., 150., 151., 152., 153.,\n",
       "        154., 155., 156., 157., 158., 159., 160., 161., 162., 163., 164.,\n",
       "        165., 166., 167., 168., 169., 170., 171., 172., 173., 174., 175.,\n",
       "        176., 177., 178., 179., 180., 181., 182., 183., 184., 185., 186.,\n",
       "        187., 188., 189., 190., 191., 192., 193., 194., 195., 196., 197.,\n",
       "        198., 199., 200., 201., 202., 203., 204., 205., 206., 207., 208.,\n",
       "        209., 210., 211., 212., 213., 214., 215., 216., 217., 218., 219.,\n",
       "        220., 221., 222., 223., 224., 225., 226., 227., 228., 229., 230.,\n",
       "        231., 232., 233., 234., 235., 236., 237., 238., 239., 240., 241.,\n",
       "        242., 243., 244., 245., 246., 247., 248., 249., 250., 251., 252.,\n",
       "        253., 254., 255.]),\n",
       " array([  0.,   1.,   2.,   3.,   4.,   5.,   6.,   7.,   8.,   9.,  10.,\n",
       "         11.,  12.,  13.,  14.,  15.,  16.,  17.,  18.,  19.,  20.,  21.,\n",
       "         22.,  23.,  24.,  25.,  26.,  27.,  28.,  29.,  30.,  31.,  32.,\n",
       "         33.,  34.,  35.,  36.,  37.,  38.,  39.,  40.,  41.,  42.,  43.,\n",
       "         44.,  45.,  46.,  47.,  48.,  49.,  50.,  51.,  52.,  53.,  54.,\n",
       "         55.,  56.,  57.,  58.,  59.,  60.,  61.,  62.,  63.,  64.,  65.,\n",
       "         66.,  67.,  68.,  69.,  70.,  71.,  72.,  73.,  74.,  75.,  76.,\n",
       "         77.,  78.,  79.,  80.,  81.,  82.,  83.,  84.,  85.,  86.,  87.,\n",
       "         88.,  89.,  90.,  91.,  92.,  93.,  94.,  95.,  96.,  97.,  98.,\n",
       "         99., 100., 101., 102., 103., 104., 105., 106., 107., 108., 109.,\n",
       "        110., 111., 112., 113., 114., 115., 116., 117., 118., 119., 120.,\n",
       "        121., 122., 123., 124., 125., 126., 127., 128., 129., 130., 131.,\n",
       "        132., 133., 134., 135., 136., 137., 138., 139., 140., 141., 142.,\n",
       "        143., 144., 145., 146., 147., 148., 149., 150., 151., 152., 153.,\n",
       "        154., 155., 156., 157., 158., 159., 160., 161., 162., 163., 164.,\n",
       "        165., 166., 167., 168., 169., 170., 171., 172., 173., 174., 175.,\n",
       "        176., 177., 178., 179., 180., 181., 182., 183., 184., 185., 186.,\n",
       "        187., 188., 189., 190., 191., 192., 193., 194., 195., 196., 197.,\n",
       "        198., 199., 200., 201., 202., 203., 204., 205., 206., 207., 208.,\n",
       "        209., 210., 211., 212., 213., 214., 215., 216., 217., 218., 219.,\n",
       "        220., 221., 222., 223., 224., 225., 226., 227., 228., 229., 230.,\n",
       "        231., 232., 233., 234., 235., 236., 237., 238., 239., 240., 241.,\n",
       "        242., 243., 244., 245., 246., 247., 248., 249., 250., 251., 252.,\n",
       "        253., 254., 255.]),\n",
       " array([  0.,   1.,   2.,   3.,   4.,   5.,   6.,   7.,   8.,   9.,  10.,\n",
       "         11.,  12.,  13.,  14.,  15.,  16.,  17.,  18.,  19.,  20.,  21.,\n",
       "         22.,  23.,  24.,  25.,  26.,  27.,  28.,  29.,  30.,  31.,  32.,\n",
       "         33.,  34.,  35.,  36.,  37.,  38.,  39.,  40.,  41.,  42.,  43.,\n",
       "         44.,  45.,  46.,  47.,  48.,  49.,  50.,  51.,  52.,  53.,  54.,\n",
       "         55.,  56.,  57.,  58.,  59.,  60.,  61.,  62.,  63.,  64.,  65.,\n",
       "         66.,  67.,  68.,  69.,  70.,  71.,  72.,  73.,  74.,  75.,  76.,\n",
       "         77.,  78.,  79.,  80.,  81.,  82.,  83.,  84.,  85.,  86.,  87.,\n",
       "         88.,  89.,  90.,  91.,  92.,  93.,  94.,  95.,  96.,  97.,  98.,\n",
       "         99., 100., 101., 102., 103., 104., 105., 106., 107., 108., 109.,\n",
       "        110., 111., 112., 113., 114., 115., 116., 117., 118., 119., 120.,\n",
       "        121., 122., 123., 124., 125., 126., 127., 128., 129., 130., 131.,\n",
       "        132., 133., 134., 135., 136., 137., 138., 139., 140., 141., 142.,\n",
       "        143., 144., 145., 146., 147., 148., 149., 150., 151., 152., 153.,\n",
       "        154., 155., 156., 157., 158., 159., 160., 161., 162., 163., 164.,\n",
       "        165., 166., 167., 168., 169., 170., 171., 172., 173., 174., 175.,\n",
       "        176., 177., 178., 179., 180., 181., 182., 183., 184., 185., 186.,\n",
       "        187., 188., 189., 190., 191., 192., 193., 194., 195., 196., 197.,\n",
       "        198., 199., 200., 201., 202., 203., 204., 205., 206., 207., 208.,\n",
       "        209., 210., 211., 212., 213., 214., 215., 216., 217., 218., 219.,\n",
       "        220., 221., 222., 223., 224., 225., 226., 227., 228., 229., 230.,\n",
       "        231., 232., 233., 234., 235., 236., 237., 238., 239., 240., 241.,\n",
       "        242., 243., 244., 245., 246., 247., 248., 249., 250., 251., 252.,\n",
       "        253., 254., 255.])]"
      ]
     },
     "execution_count": 24,
     "metadata": {},
     "output_type": "execute_result"
    }
   ],
   "source": [
    "Encoder.categories_"
   ]
  },
  {
   "cell_type": "code",
   "execution_count": 32,
   "metadata": {},
   "outputs": [],
   "source": [
    "model = SGDClassifier(loss='log',\n",
    "                      penalty='elasticnet',\n",
    "                      max_iter=1000,\n",
    "                      tol=1e-5,\n",
    "                      learning_rate='constant',\n",
    "                      eta0=1e-2,\n",
    "                      early_stopping=False,\n",
    "                      verbose=1)"
   ]
  },
  {
   "cell_type": "code",
   "execution_count": 33,
   "metadata": {},
   "outputs": [
    {
     "name": "stderr",
     "output_type": "stream",
     "text": [
      "/Users/mac/anaconda3/lib/python3.7/site-packages/sklearn/utils/validation.py:761: DataConversionWarning: A column-vector y was passed when a 1d array was expected. Please change the shape of y to (n_samples, ), for example using ravel().\n",
      "  y = column_or_1d(y, warn=True)\n"
     ]
    },
    {
     "name": "stdout",
     "output_type": "stream",
     "text": [
      "-- Epoch 1\n",
      "Norm: 21.52, NNZs: 752, Bias: 0.739872, T: 220551, Avg. loss: 0.306149\n",
      "Total training time: 0.05 seconds.\n",
      "-- Epoch 2\n",
      "Norm: 27.61, NNZs: 743, Bias: 0.959779, T: 441102, Avg. loss: 0.204971\n",
      "Total training time: 0.10 seconds.\n",
      "-- Epoch 3\n",
      "Norm: 30.72, NNZs: 741, Bias: 1.113793, T: 661653, Avg. loss: 0.181710\n",
      "Total training time: 0.16 seconds.\n",
      "-- Epoch 4\n",
      "Norm: 32.48, NNZs: 736, Bias: 1.244517, T: 882204, Avg. loss: 0.171345\n",
      "Total training time: 0.21 seconds.\n",
      "-- Epoch 5\n",
      "Norm: 33.53, NNZs: 737, Bias: 1.353236, T: 1102755, Avg. loss: 0.165872\n",
      "Total training time: 0.26 seconds.\n",
      "-- Epoch 6\n",
      "Norm: 34.18, NNZs: 745, Bias: 1.446657, T: 1323306, Avg. loss: 0.162673\n",
      "Total training time: 0.32 seconds.\n",
      "-- Epoch 7\n",
      "Norm: 34.61, NNZs: 741, Bias: 1.524680, T: 1543857, Avg. loss: 0.160759\n",
      "Total training time: 0.37 seconds.\n",
      "-- Epoch 8\n",
      "Norm: 34.88, NNZs: 745, Bias: 1.596384, T: 1764408, Avg. loss: 0.159427\n",
      "Total training time: 0.43 seconds.\n",
      "-- Epoch 9\n",
      "Norm: 35.08, NNZs: 746, Bias: 1.657657, T: 1984959, Avg. loss: 0.158591\n",
      "Total training time: 0.48 seconds.\n",
      "-- Epoch 10\n",
      "Norm: 35.16, NNZs: 743, Bias: 1.722607, T: 2205510, Avg. loss: 0.157900\n",
      "Total training time: 0.53 seconds.\n",
      "-- Epoch 11\n",
      "Norm: 35.24, NNZs: 743, Bias: 1.775504, T: 2426061, Avg. loss: 0.157471\n",
      "Total training time: 0.59 seconds.\n",
      "-- Epoch 12\n",
      "Norm: 35.30, NNZs: 742, Bias: 1.821290, T: 2646612, Avg. loss: 0.157142\n",
      "Total training time: 0.64 seconds.\n",
      "-- Epoch 13\n",
      "Norm: 35.36, NNZs: 740, Bias: 1.865028, T: 2867163, Avg. loss: 0.156914\n",
      "Total training time: 0.68 seconds.\n",
      "-- Epoch 14\n",
      "Norm: 35.40, NNZs: 739, Bias: 1.906189, T: 3087714, Avg. loss: 0.156664\n",
      "Total training time: 0.74 seconds.\n",
      "-- Epoch 15\n",
      "Norm: 35.40, NNZs: 737, Bias: 1.946306, T: 3308265, Avg. loss: 0.156389\n",
      "Total training time: 0.79 seconds.\n",
      "-- Epoch 16\n",
      "Norm: 35.42, NNZs: 738, Bias: 1.980122, T: 3528816, Avg. loss: 0.156306\n",
      "Total training time: 0.84 seconds.\n",
      "-- Epoch 17\n",
      "Norm: 35.44, NNZs: 737, Bias: 2.012315, T: 3749367, Avg. loss: 0.156197\n",
      "Total training time: 0.90 seconds.\n",
      "-- Epoch 18\n",
      "Norm: 35.44, NNZs: 737, Bias: 2.040675, T: 3969918, Avg. loss: 0.156061\n",
      "Total training time: 0.95 seconds.\n",
      "-- Epoch 19\n",
      "Norm: 35.46, NNZs: 736, Bias: 2.066203, T: 4190469, Avg. loss: 0.155965\n",
      "Total training time: 0.99 seconds.\n",
      "-- Epoch 20\n",
      "Norm: 35.49, NNZs: 738, Bias: 2.086984, T: 4411020, Avg. loss: 0.155895\n",
      "Total training time: 1.04 seconds.\n",
      "-- Epoch 21\n",
      "Norm: 35.48, NNZs: 737, Bias: 2.112643, T: 4631571, Avg. loss: 0.155784\n",
      "Total training time: 1.08 seconds.\n",
      "-- Epoch 22\n",
      "Norm: 35.52, NNZs: 736, Bias: 2.126533, T: 4852122, Avg. loss: 0.155785\n",
      "Total training time: 1.12 seconds.\n",
      "-- Epoch 23\n",
      "Norm: 35.49, NNZs: 737, Bias: 2.151098, T: 5072673, Avg. loss: 0.155631\n",
      "Total training time: 1.16 seconds.\n",
      "-- Epoch 24\n",
      "Norm: 35.51, NNZs: 740, Bias: 2.166191, T: 5293224, Avg. loss: 0.155652\n",
      "Total training time: 1.21 seconds.\n",
      "-- Epoch 25\n",
      "Norm: 35.55, NNZs: 740, Bias: 2.175236, T: 5513775, Avg. loss: 0.155598\n",
      "Total training time: 1.26 seconds.\n",
      "-- Epoch 26\n",
      "Norm: 35.54, NNZs: 741, Bias: 2.194243, T: 5734326, Avg. loss: 0.155540\n",
      "Total training time: 1.31 seconds.\n",
      "-- Epoch 27\n",
      "Norm: 35.53, NNZs: 741, Bias: 2.212395, T: 5954877, Avg. loss: 0.155419\n",
      "Total training time: 1.36 seconds.\n",
      "-- Epoch 28\n",
      "Norm: 35.57, NNZs: 740, Bias: 2.220713, T: 6175428, Avg. loss: 0.155490\n",
      "Total training time: 1.42 seconds.\n",
      "-- Epoch 29\n",
      "Norm: 35.53, NNZs: 740, Bias: 2.237972, T: 6395979, Avg. loss: 0.155311\n",
      "Total training time: 1.47 seconds.\n",
      "-- Epoch 30\n",
      "Norm: 35.56, NNZs: 739, Bias: 2.245675, T: 6616530, Avg. loss: 0.155392\n",
      "Total training time: 1.51 seconds.\n",
      "-- Epoch 31\n",
      "Norm: 35.58, NNZs: 739, Bias: 2.254335, T: 6837081, Avg. loss: 0.155307\n",
      "Total training time: 1.56 seconds.\n",
      "-- Epoch 32\n",
      "Norm: 35.59, NNZs: 737, Bias: 2.265045, T: 7057632, Avg. loss: 0.155290\n",
      "Total training time: 1.60 seconds.\n",
      "-- Epoch 33\n",
      "Norm: 35.60, NNZs: 737, Bias: 2.269032, T: 7278183, Avg. loss: 0.155271\n",
      "Total training time: 1.65 seconds.\n",
      "-- Epoch 34\n",
      "Norm: 35.59, NNZs: 737, Bias: 2.279667, T: 7498734, Avg. loss: 0.155243\n",
      "Total training time: 1.69 seconds.\n",
      "-- Epoch 35\n",
      "Norm: 35.65, NNZs: 737, Bias: 2.281165, T: 7719285, Avg. loss: 0.155284\n",
      "Total training time: 1.73 seconds.\n",
      "-- Epoch 36\n",
      "Norm: 35.58, NNZs: 738, Bias: 2.296488, T: 7939836, Avg. loss: 0.155100\n",
      "Total training time: 1.78 seconds.\n",
      "-- Epoch 37\n",
      "Norm: 35.62, NNZs: 737, Bias: 2.297097, T: 8160387, Avg. loss: 0.155219\n",
      "Total training time: 1.83 seconds.\n",
      "-- Epoch 38\n",
      "Norm: 35.61, NNZs: 737, Bias: 2.303274, T: 8380938, Avg. loss: 0.155132\n",
      "Total training time: 1.87 seconds.\n",
      "-- Epoch 39\n",
      "Norm: 35.64, NNZs: 738, Bias: 2.307380, T: 8601489, Avg. loss: 0.155207\n",
      "Total training time: 1.93 seconds.\n",
      "-- Epoch 40\n",
      "Norm: 35.62, NNZs: 740, Bias: 2.313922, T: 8822040, Avg. loss: 0.155094\n",
      "Total training time: 1.98 seconds.\n",
      "-- Epoch 41\n",
      "Norm: 35.62, NNZs: 739, Bias: 2.318920, T: 9042591, Avg. loss: 0.155113\n",
      "Total training time: 2.15 seconds.\n",
      "Convergence after 41 epochs took 2.15 seconds\n"
     ]
    },
    {
     "data": {
      "text/plain": [
       "SGDClassifier(alpha=0.0001, average=False, class_weight=None,\n",
       "       early_stopping=False, epsilon=0.1, eta0=0.01, fit_intercept=True,\n",
       "       l1_ratio=0.15, learning_rate='constant', loss='log', max_iter=1000,\n",
       "       n_iter=None, n_iter_no_change=5, n_jobs=None, penalty='elasticnet',\n",
       "       power_t=0.5, random_state=None, shuffle=True, tol=1e-05,\n",
       "       validation_fraction=0.1, verbose=1, warm_start=False)"
      ]
     },
     "execution_count": 33,
     "metadata": {},
     "output_type": "execute_result"
    }
   ],
   "source": [
    "model.fit(Encoder.transform(XTr),YTr)"
   ]
  },
  {
   "cell_type": "code",
   "execution_count": 35,
   "metadata": {},
   "outputs": [],
   "source": [
    "from sklearn.metrics import make_scorer, f1_score\n",
    "f1_scorer = make_scorer(f1_score)"
   ]
  },
  {
   "cell_type": "code",
   "execution_count": 38,
   "metadata": {},
   "outputs": [],
   "source": [
    "operation = GridSearchCV(estimator=model,\n",
    "                         n_jobs=-1,\n",
    "                         param_grid={'alpha':np.logspace(-4,3,num=7),\n",
    "                                     'l1_ratio':[0.1, 0.25, 0.5, 0.75, 0.9]},\n",
    "                         scoring=f1_scorer,\n",
    "                         cv=10,verbose=1)"
   ]
  },
  {
   "cell_type": "code",
   "execution_count": 39,
   "metadata": {},
   "outputs": [
    {
     "name": "stdout",
     "output_type": "stream",
     "text": [
      "Fitting 10 folds for each of 35 candidates, totalling 350 fits\n"
     ]
    },
    {
     "name": "stderr",
     "output_type": "stream",
     "text": [
      "[Parallel(n_jobs=-1)]: Using backend LokyBackend with 8 concurrent workers.\n",
      "[Parallel(n_jobs=-1)]: Done  34 tasks      | elapsed:   23.0s\n",
      "[Parallel(n_jobs=-1)]: Done 184 tasks      | elapsed:   51.3s\n",
      "[Parallel(n_jobs=-1)]: Done 350 out of 350 | elapsed:  1.3min finished\n",
      "/Users/mac/anaconda3/lib/python3.7/site-packages/sklearn/utils/validation.py:761: DataConversionWarning: A column-vector y was passed when a 1d array was expected. Please change the shape of y to (n_samples, ), for example using ravel().\n",
      "  y = column_or_1d(y, warn=True)\n"
     ]
    },
    {
     "name": "stdout",
     "output_type": "stream",
     "text": [
      "-- Epoch 1\n",
      "Norm: 23.00, NNZs: 687, Bias: 0.741473, T: 220551, Avg. loss: 0.312315\n",
      "Total training time: 0.06 seconds.\n",
      "-- Epoch 2\n",
      "Norm: 31.78, NNZs: 672, Bias: 0.942161, T: 441102, Avg. loss: 0.210371\n",
      "Total training time: 0.12 seconds.\n",
      "-- Epoch 3\n",
      "Norm: 37.83, NNZs: 675, Bias: 1.081320, T: 661653, Avg. loss: 0.184551\n",
      "Total training time: 0.18 seconds.\n",
      "-- Epoch 4\n",
      "Norm: 42.54, NNZs: 672, Bias: 1.191484, T: 882204, Avg. loss: 0.171842\n",
      "Total training time: 0.24 seconds.\n",
      "-- Epoch 5\n",
      "Norm: 46.45, NNZs: 666, Bias: 1.285131, T: 1102755, Avg. loss: 0.164216\n",
      "Total training time: 0.30 seconds.\n",
      "-- Epoch 6\n",
      "Norm: 49.81, NNZs: 665, Bias: 1.361415, T: 1323306, Avg. loss: 0.159314\n",
      "Total training time: 0.36 seconds.\n",
      "-- Epoch 7\n",
      "Norm: 52.77, NNZs: 657, Bias: 1.424701, T: 1543857, Avg. loss: 0.155906\n",
      "Total training time: 0.42 seconds.\n",
      "-- Epoch 8\n",
      "Norm: 55.37, NNZs: 654, Bias: 1.493184, T: 1764408, Avg. loss: 0.153364\n",
      "Total training time: 0.48 seconds.\n",
      "-- Epoch 9\n",
      "Norm: 57.74, NNZs: 646, Bias: 1.545651, T: 1984959, Avg. loss: 0.151619\n",
      "Total training time: 0.53 seconds.\n",
      "-- Epoch 10\n",
      "Norm: 59.90, NNZs: 650, Bias: 1.592160, T: 2205510, Avg. loss: 0.150284\n",
      "Total training time: 0.60 seconds.\n",
      "-- Epoch 11\n",
      "Norm: 61.89, NNZs: 648, Bias: 1.633629, T: 2426061, Avg. loss: 0.149191\n",
      "Total training time: 0.66 seconds.\n",
      "-- Epoch 12\n",
      "Norm: 63.70, NNZs: 646, Bias: 1.678178, T: 2646612, Avg. loss: 0.148332\n",
      "Total training time: 0.71 seconds.\n",
      "-- Epoch 13\n",
      "Norm: 65.38, NNZs: 643, Bias: 1.720949, T: 2867163, Avg. loss: 0.147684\n",
      "Total training time: 0.77 seconds.\n",
      "-- Epoch 14\n",
      "Norm: 66.96, NNZs: 642, Bias: 1.750147, T: 3087714, Avg. loss: 0.147199\n",
      "Total training time: 0.83 seconds.\n",
      "-- Epoch 15\n",
      "Norm: 68.42, NNZs: 639, Bias: 1.784646, T: 3308265, Avg. loss: 0.146805\n",
      "Total training time: 0.89 seconds.\n",
      "-- Epoch 16\n",
      "Norm: 69.77, NNZs: 640, Bias: 1.818793, T: 3528816, Avg. loss: 0.146431\n",
      "Total training time: 0.94 seconds.\n",
      "-- Epoch 17\n",
      "Norm: 71.05, NNZs: 637, Bias: 1.845914, T: 3749367, Avg. loss: 0.146122\n",
      "Total training time: 0.99 seconds.\n",
      "-- Epoch 18\n",
      "Norm: 72.25, NNZs: 639, Bias: 1.875741, T: 3969918, Avg. loss: 0.145959\n",
      "Total training time: 1.03 seconds.\n",
      "-- Epoch 19\n",
      "Norm: 73.38, NNZs: 637, Bias: 1.898616, T: 4190469, Avg. loss: 0.145769\n",
      "Total training time: 1.08 seconds.\n",
      "-- Epoch 20\n",
      "Norm: 74.43, NNZs: 637, Bias: 1.925607, T: 4411020, Avg. loss: 0.145601\n",
      "Total training time: 1.13 seconds.\n",
      "-- Epoch 21\n",
      "Norm: 75.43, NNZs: 637, Bias: 1.948709, T: 4631571, Avg. loss: 0.145470\n",
      "Total training time: 1.19 seconds.\n",
      "-- Epoch 22\n",
      "Norm: 76.37, NNZs: 636, Bias: 1.972461, T: 4852122, Avg. loss: 0.145385\n",
      "Total training time: 1.25 seconds.\n",
      "-- Epoch 23\n",
      "Norm: 77.26, NNZs: 637, Bias: 1.992548, T: 5072673, Avg. loss: 0.145209\n",
      "Total training time: 1.30 seconds.\n",
      "-- Epoch 24\n",
      "Norm: 78.12, NNZs: 637, Bias: 2.011362, T: 5293224, Avg. loss: 0.145240\n",
      "Total training time: 1.36 seconds.\n",
      "-- Epoch 25\n",
      "Norm: 78.92, NNZs: 635, Bias: 2.027643, T: 5513775, Avg. loss: 0.145144\n",
      "Total training time: 1.41 seconds.\n",
      "-- Epoch 26\n",
      "Norm: 79.67, NNZs: 634, Bias: 2.049492, T: 5734326, Avg. loss: 0.145034\n",
      "Total training time: 1.47 seconds.\n",
      "-- Epoch 27\n",
      "Norm: 80.38, NNZs: 636, Bias: 2.066765, T: 5954877, Avg. loss: 0.144995\n",
      "Total training time: 1.52 seconds.\n",
      "-- Epoch 28\n",
      "Norm: 81.07, NNZs: 635, Bias: 2.081264, T: 6175428, Avg. loss: 0.144947\n",
      "Total training time: 1.58 seconds.\n",
      "-- Epoch 29\n",
      "Norm: 81.71, NNZs: 635, Bias: 2.098843, T: 6395979, Avg. loss: 0.144945\n",
      "Total training time: 1.63 seconds.\n",
      "-- Epoch 30\n",
      "Norm: 82.33, NNZs: 636, Bias: 2.111271, T: 6616530, Avg. loss: 0.144871\n",
      "Total training time: 1.68 seconds.\n",
      "-- Epoch 31\n",
      "Norm: 82.91, NNZs: 635, Bias: 2.127840, T: 6837081, Avg. loss: 0.144826\n",
      "Total training time: 1.72 seconds.\n",
      "-- Epoch 32\n",
      "Norm: 83.46, NNZs: 634, Bias: 2.144068, T: 7057632, Avg. loss: 0.144749\n",
      "Total training time: 1.76 seconds.\n",
      "-- Epoch 33\n",
      "Norm: 83.98, NNZs: 632, Bias: 2.158596, T: 7278183, Avg. loss: 0.144756\n",
      "Total training time: 1.80 seconds.\n",
      "-- Epoch 34\n",
      "Norm: 84.49, NNZs: 630, Bias: 2.168560, T: 7498734, Avg. loss: 0.144761\n",
      "Total training time: 1.85 seconds.\n",
      "-- Epoch 35\n",
      "Norm: 84.96, NNZs: 630, Bias: 2.182759, T: 7719285, Avg. loss: 0.144723\n",
      "Total training time: 1.90 seconds.\n",
      "-- Epoch 36\n",
      "Norm: 85.41, NNZs: 631, Bias: 2.196685, T: 7939836, Avg. loss: 0.144651\n",
      "Total training time: 1.95 seconds.\n",
      "-- Epoch 37\n",
      "Norm: 85.85, NNZs: 630, Bias: 2.205500, T: 8160387, Avg. loss: 0.144701\n",
      "Total training time: 2.01 seconds.\n",
      "-- Epoch 38\n",
      "Norm: 86.26, NNZs: 629, Bias: 2.217301, T: 8380938, Avg. loss: 0.144676\n",
      "Total training time: 2.06 seconds.\n",
      "-- Epoch 39\n",
      "Norm: 86.64, NNZs: 630, Bias: 2.229464, T: 8601489, Avg. loss: 0.144651\n",
      "Total training time: 2.11 seconds.\n",
      "-- Epoch 40\n",
      "Norm: 87.03, NNZs: 629, Bias: 2.234434, T: 8822040, Avg. loss: 0.144675\n",
      "Total training time: 2.17 seconds.\n",
      "-- Epoch 41\n",
      "Norm: 87.38, NNZs: 629, Bias: 2.245519, T: 9042591, Avg. loss: 0.144584\n",
      "Total training time: 2.22 seconds.\n",
      "-- Epoch 42\n",
      "Norm: 87.70, NNZs: 629, Bias: 2.263781, T: 9263142, Avg. loss: 0.144611\n",
      "Total training time: 2.28 seconds.\n",
      "-- Epoch 43\n",
      "Norm: 88.04, NNZs: 629, Bias: 2.264171, T: 9483693, Avg. loss: 0.144697\n",
      "Total training time: 2.33 seconds.\n",
      "-- Epoch 44\n",
      "Norm: 88.35, NNZs: 629, Bias: 2.270154, T: 9704244, Avg. loss: 0.144657\n",
      "Total training time: 2.37 seconds.\n",
      "-- Epoch 45\n",
      "Norm: 88.63, NNZs: 629, Bias: 2.282609, T: 9924795, Avg. loss: 0.144581\n",
      "Total training time: 2.41 seconds.\n",
      "-- Epoch 46\n",
      "Norm: 88.92, NNZs: 630, Bias: 2.286683, T: 10145346, Avg. loss: 0.144651\n",
      "Total training time: 2.45 seconds.\n",
      "Convergence after 46 epochs took 2.45 seconds\n"
     ]
    },
    {
     "data": {
      "text/plain": [
       "GridSearchCV(cv=10, error_score='raise-deprecating',\n",
       "       estimator=SGDClassifier(alpha=0.0001, average=False, class_weight=None,\n",
       "       early_stopping=False, epsilon=0.1, eta0=0.01, fit_intercept=True,\n",
       "       l1_ratio=0.15, learning_rate='constant', loss='log', max_iter=1000,\n",
       "       n_iter=None, n_iter_no_change=5, n_jobs=None, penalty='elasticnet',\n",
       "       power_t=0.5, random_state=None, shuffle=True, tol=1e-05,\n",
       "       validation_fraction=0.1, verbose=1, warm_start=False),\n",
       "       fit_params=None, iid='warn', n_jobs=-1,\n",
       "       param_grid={'alpha': array([1.00000e-04, 1.46780e-03, 2.15443e-02, 3.16228e-01, 4.64159e+00,\n",
       "       6.81292e+01, 1.00000e+03]), 'l1_ratio': [0.1, 0.25, 0.5, 0.75, 0.9]},\n",
       "       pre_dispatch='2*n_jobs', refit=True, return_train_score='warn',\n",
       "       scoring=make_scorer(f1_score), verbose=1)"
      ]
     },
     "execution_count": 39,
     "metadata": {},
     "output_type": "execute_result"
    }
   ],
   "source": [
    "operation.fit(Encoder.transform(XTr),YTr)"
   ]
  },
  {
   "cell_type": "code",
   "execution_count": 40,
   "metadata": {},
   "outputs": [],
   "source": [
    "BestModel = operation.best_estimator_"
   ]
  },
  {
   "cell_type": "code",
   "execution_count": 57,
   "metadata": {},
   "outputs": [
    {
     "data": {
      "text/plain": [
       "0.9752312376452901"
      ]
     },
     "execution_count": 57,
     "metadata": {},
     "output_type": "execute_result"
    }
   ],
   "source": [
    "operation.best_score_"
   ]
  },
  {
   "cell_type": "code",
   "execution_count": 41,
   "metadata": {},
   "outputs": [
    {
     "data": {
      "text/plain": [
       "0.9741254398675222"
      ]
     },
     "execution_count": 41,
     "metadata": {},
     "output_type": "execute_result"
    }
   ],
   "source": [
    "f1_score(YT,BestModel.predict(Encoder.transform(XT)))"
   ]
  },
  {
   "cell_type": "code",
   "execution_count": 53,
   "metadata": {},
   "outputs": [],
   "source": [
    "from sklearn.metrics import roc_curve, roc_auc_score"
   ]
  },
  {
   "cell_type": "code",
   "execution_count": 45,
   "metadata": {},
   "outputs": [],
   "source": [
    "fpr,tpr,thresholds = roc_curve(YT,\n",
    "                               BestModel.predict_proba(Encoder.transform(XT))[:,1])"
   ]
  },
  {
   "cell_type": "code",
   "execution_count": 56,
   "metadata": {},
   "outputs": [
    {
     "data": {
      "image/png": "[encoded data removed]",
      "text/plain": [
       "<Figure size 432x288 with 1 Axes>"
      ]
     },
     "metadata": {
      "needs_background": "light"
     },
     "output_type": "display_data"
    },
    {
     "name": "stdout",
     "output_type": "stream",
     "text": [
      "Area Under The Curve: 0.982\n"
     ]
    }
   ],
   "source": [
    "plt.plot(fpr,tpr)\n",
    "plt.plot(tpr,tpr)\n",
    "plt.title('ROC curve on Witheld Test Set')\n",
    "plt.xlabel('False Positive Rate')\n",
    "plt.ylabel('True Positive Rate')\n",
    "plt.show()\n",
    "print('Area Under The Curve: {}'.format(np.round(roc_auc_score(YT,\n",
    "                                                      BestModel.predict_proba(Encoder.transform(XT))[:,1]),\n",
    "                                                 decimals=3)))"
   ]
  },
  {
   "cell_type": "code",
   "execution_count": 95,
   "metadata": {},
   "outputs": [],
   "source": [
    "weights=BestModel.coef_"
   ]
  },
  {
   "cell_type": "code",
   "execution_count": 89,
   "metadata": {},
   "outputs": [],
   "source": [
    "Features = np.asarray(Encoder.categories_)"
   ]
  },
  {
   "cell_type": "code",
   "execution_count": 90,
   "metadata": {},
   "outputs": [],
   "source": [
    "Features = Features.astype(dtype=np.str)"
   ]
  },
  {
   "cell_type": "code",
   "execution_count": 91,
   "metadata": {},
   "outputs": [
    {
     "data": {
      "text/plain": [
       "array([['0.0', '1.0', '2.0', '3.0', '4.0', '5.0', '6.0', '7.0', '8.0',\n",
       "        '9.0', '10.0', '11.0', '12.0', '13.0', '14.0', '15.0', '16.0',\n",
       "        '17.0', '18.0', '19.0', '20.0', '21.0', '22.0', '23.0', '24.0',\n",
       "        '25.0', '26.0', '27.0', '28.0', '29.0', '30.0', '31.0', '32.0',\n",
       "        '33.0', '34.0', '35.0', '36.0', '37.0', '38.0', '39.0', '40.0',\n",
       "        '41.0', '42.0', '43.0', '44.0', '45.0', '46.0', '47.0', '48.0',\n",
       "        '49.0', '50.0', '51.0', '52.0', '53.0', '54.0', '55.0', '56.0',\n",
       "        '57.0', '58.0', '59.0', '60.0', '61.0', '62.0', '63.0', '64.0',\n",
       "        '65.0', '66.0', '67.0', '68.0', '69.0', '70.0', '71.0', '72.0',\n",
       "        '73.0', '74.0', '75.0', '76.0', '77.0', '78.0', '79.0', '80.0',\n",
       "        '81.0', '82.0', '83.0', '84.0', '85.0', '86.0', '87.0', '88.0',\n",
       "        '89.0', '90.0', '91.0', '92.0', '93.0', '94.0', '95.0', '96.0',\n",
       "        '97.0', '98.0', '99.0', '100.0', '101.0', '102.0', '103.0',\n",
       "        '104.0', '105.0', '106.0', '107.0', '108.0', '109.0', '110.0',\n",
       "        '111.0', '112.0', '113.0', '114.0', '115.0', '116.0', '117.0',\n",
       "        '118.0', '119.0', '120.0', '121.0', '122.0', '123.0', '124.0',\n",
       "        '125.0', '126.0', '127.0', '128.0', '129.0', '130.0', '131.0',\n",
       "        '132.0', '133.0', '134.0', '135.0', '136.0', '137.0', '138.0',\n",
       "        '139.0', '140.0', '141.0', '142.0', '143.0', '144.0', '145.0',\n",
       "        '146.0', '147.0', '148.0', '149.0', '150.0', '151.0', '152.0',\n",
       "        '153.0', '154.0', '155.0', '156.0', '157.0', '158.0', '159.0',\n",
       "        '160.0', '161.0', '162.0', '163.0', '164.0', '165.0', '166.0',\n",
       "        '167.0', '168.0', '169.0', '170.0', '171.0', '172.0', '173.0',\n",
       "        '174.0', '175.0', '176.0', '177.0', '178.0', '179.0', '180.0',\n",
       "        '181.0', '182.0', '183.0', '184.0', '185.0', '186.0', '187.0',\n",
       "        '188.0', '189.0', '190.0', '191.0', '192.0', '193.0', '194.0',\n",
       "        '195.0', '196.0', '197.0', '198.0', '199.0', '200.0', '201.0',\n",
       "        '202.0', '203.0', '204.0', '205.0', '206.0', '207.0', '208.0',\n",
       "        '209.0', '210.0', '211.0', '212.0', '213.0', '214.0', '215.0',\n",
       "        '216.0', '217.0', '218.0', '219.0', '220.0', '221.0', '222.0',\n",
       "        '223.0', '224.0', '225.0', '226.0', '227.0', '228.0', '229.0',\n",
       "        '230.0', '231.0', '232.0', '233.0', '234.0', '235.0', '236.0',\n",
       "        '237.0', '238.0', '239.0', '240.0', '241.0', '242.0', '243.0',\n",
       "        '244.0', '245.0', '246.0', '247.0', '248.0', '249.0', '250.0',\n",
       "        '251.0', '252.0', '253.0', '254.0', '255.0'],\n",
       "       ['0.0', '1.0', '2.0', '3.0', '4.0', '5.0', '6.0', '7.0', '8.0',\n",
       "        '9.0', '10.0', '11.0', '12.0', '13.0', '14.0', '15.0', '16.0',\n",
       "        '17.0', '18.0', '19.0', '20.0', '21.0', '22.0', '23.0', '24.0',\n",
       "        '25.0', '26.0', '27.0', '28.0', '29.0', '30.0', '31.0', '32.0',\n",
       "        '33.0', '34.0', '35.0', '36.0', '37.0', '38.0', '39.0', '40.0',\n",
       "        '41.0', '42.0', '43.0', '44.0', '45.0', '46.0', '47.0', '48.0',\n",
       "        '49.0', '50.0', '51.0', '52.0', '53.0', '54.0', '55.0', '56.0',\n",
       "        '57.0', '58.0', '59.0', '60.0', '61.0', '62.0', '63.0', '64.0',\n",
       "        '65.0', '66.0', '67.0', '68.0', '69.0', '70.0', '71.0', '72.0',\n",
       "        '73.0', '74.0', '75.0', '76.0', '77.0', '78.0', '79.0', '80.0',\n",
       "        '81.0', '82.0', '83.0', '84.0', '85.0', '86.0', '87.0', '88.0',\n",
       "        '89.0', '90.0', '91.0', '92.0', '93.0', '94.0', '95.0', '96.0',\n",
       "        '97.0', '98.0', '99.0', '100.0', '101.0', '102.0', '103.0',\n",
       "        '104.0', '105.0', '106.0', '107.0', '108.0', '109.0', '110.0',\n",
       "        '111.0', '112.0', '113.0', '114.0', '115.0', '116.0', '117.0',\n",
       "        '118.0', '119.0', '120.0', '121.0', '122.0', '123.0', '124.0',\n",
       "        '125.0', '126.0', '127.0', '128.0', '129.0', '130.0', '131.0',\n",
       "        '132.0', '133.0', '134.0', '135.0', '136.0', '137.0', '138.0',\n",
       "        '139.0', '140.0', '141.0', '142.0', '143.0', '144.0', '145.0',\n",
       "        '146.0', '147.0', '148.0', '149.0', '150.0', '151.0', '152.0',\n",
       "        '153.0', '154.0', '155.0', '156.0', '157.0', '158.0', '159.0',\n",
       "        '160.0', '161.0', '162.0', '163.0', '164.0', '165.0', '166.0',\n",
       "        '167.0', '168.0', '169.0', '170.0', '171.0', '172.0', '173.0',\n",
       "        '174.0', '175.0', '176.0', '177.0', '178.0', '179.0', '180.0',\n",
       "        '181.0', '182.0', '183.0', '184.0', '185.0', '186.0', '187.0',\n",
       "        '188.0', '189.0', '190.0', '191.0', '192.0', '193.0', '194.0',\n",
       "        '195.0', '196.0', '197.0', '198.0', '199.0', '200.0', '201.0',\n",
       "        '202.0', '203.0', '204.0', '205.0', '206.0', '207.0', '208.0',\n",
       "        '209.0', '210.0', '211.0', '212.0', '213.0', '214.0', '215.0',\n",
       "        '216.0', '217.0', '218.0', '219.0', '220.0', '221.0', '222.0',\n",
       "        '223.0', '224.0', '225.0', '226.0', '227.0', '228.0', '229.0',\n",
       "        '230.0', '231.0', '232.0', '233.0', '234.0', '235.0', '236.0',\n",
       "        '237.0', '238.0', '239.0', '240.0', '241.0', '242.0', '243.0',\n",
       "        '244.0', '245.0', '246.0', '247.0', '248.0', '249.0', '250.0',\n",
       "        '251.0', '252.0', '253.0', '254.0', '255.0'],\n",
       "       ['0.0', '1.0', '2.0', '3.0', '4.0', '5.0', '6.0', '7.0', '8.0',\n",
       "        '9.0', '10.0', '11.0', '12.0', '13.0', '14.0', '15.0', '16.0',\n",
       "        '17.0', '18.0', '19.0', '20.0', '21.0', '22.0', '23.0', '24.0',\n",
       "        '25.0', '26.0', '27.0', '28.0', '29.0', '30.0', '31.0', '32.0',\n",
       "        '33.0', '34.0', '35.0', '36.0', '37.0', '38.0', '39.0', '40.0',\n",
       "        '41.0', '42.0', '43.0', '44.0', '45.0', '46.0', '47.0', '48.0',\n",
       "        '49.0', '50.0', '51.0', '52.0', '53.0', '54.0', '55.0', '56.0',\n",
       "        '57.0', '58.0', '59.0', '60.0', '61.0', '62.0', '63.0', '64.0',\n",
       "        '65.0', '66.0', '67.0', '68.0', '69.0', '70.0', '71.0', '72.0',\n",
       "        '73.0', '74.0', '75.0', '76.0', '77.0', '78.0', '79.0', '80.0',\n",
       "        '81.0', '82.0', '83.0', '84.0', '85.0', '86.0', '87.0', '88.0',\n",
       "        '89.0', '90.0', '91.0', '92.0', '93.0', '94.0', '95.0', '96.0',\n",
       "        '97.0', '98.0', '99.0', '100.0', '101.0', '102.0', '103.0',\n",
       "        '104.0', '105.0', '106.0', '107.0', '108.0', '109.0', '110.0',\n",
       "        '111.0', '112.0', '113.0', '114.0', '115.0', '116.0', '117.0',\n",
       "        '118.0', '119.0', '120.0', '121.0', '122.0', '123.0', '124.0',\n",
       "        '125.0', '126.0', '127.0', '128.0', '129.0', '130.0', '131.0',\n",
       "        '132.0', '133.0', '134.0', '135.0', '136.0', '137.0', '138.0',\n",
       "        '139.0', '140.0', '141.0', '142.0', '143.0', '144.0', '145.0',\n",
       "        '146.0', '147.0', '148.0', '149.0', '150.0', '151.0', '152.0',\n",
       "        '153.0', '154.0', '155.0', '156.0', '157.0', '158.0', '159.0',\n",
       "        '160.0', '161.0', '162.0', '163.0', '164.0', '165.0', '166.0',\n",
       "        '167.0', '168.0', '169.0', '170.0', '171.0', '172.0', '173.0',\n",
       "        '174.0', '175.0', '176.0', '177.0', '178.0', '179.0', '180.0',\n",
       "        '181.0', '182.0', '183.0', '184.0', '185.0', '186.0', '187.0',\n",
       "        '188.0', '189.0', '190.0', '191.0', '192.0', '193.0', '194.0',\n",
       "        '195.0', '196.0', '197.0', '198.0', '199.0', '200.0', '201.0',\n",
       "        '202.0', '203.0', '204.0', '205.0', '206.0', '207.0', '208.0',\n",
       "        '209.0', '210.0', '211.0', '212.0', '213.0', '214.0', '215.0',\n",
       "        '216.0', '217.0', '218.0', '219.0', '220.0', '221.0', '222.0',\n",
       "        '223.0', '224.0', '225.0', '226.0', '227.0', '228.0', '229.0',\n",
       "        '230.0', '231.0', '232.0', '233.0', '234.0', '235.0', '236.0',\n",
       "        '237.0', '238.0', '239.0', '240.0', '241.0', '242.0', '243.0',\n",
       "        '244.0', '245.0', '246.0', '247.0', '248.0', '249.0', '250.0',\n",
       "        '251.0', '252.0', '253.0', '254.0', '255.0']], dtype='<U32')"
      ]
     },
     "execution_count": 91,
     "metadata": {},
     "output_type": "execute_result"
    }
   ],
   "source": [
    "Features"
   ]
  },
  {
   "cell_type": "code",
   "execution_count": 92,
   "metadata": {},
   "outputs": [],
   "source": [
    "for num,Color in enumerate(['Blue','Green','Red']):\n",
    "    for i in range(Features.shape[1]):\n",
    "        Features[num,i]=Color+Features[num,i]"
   ]
  },
  {
   "cell_type": "code",
   "execution_count": 93,
   "metadata": {},
   "outputs": [],
   "source": [
    "Feats = Features.flatten()"
   ]
  },
  {
   "cell_type": "code",
   "execution_count": 94,
   "metadata": {},
   "outputs": [
    {
     "data": {
      "text/plain": [
       "array(['Blue0.0', 'Blue1.0', 'Blue2.0', 'Blue3.0', 'Blue4.0', 'Blue5.0',\n",
       "       'Blue6.0', 'Blue7.0', 'Blue8.0', 'Blue9.0', 'Blue10.0', 'Blue11.0',\n",
       "       'Blue12.0', 'Blue13.0', 'Blue14.0', 'Blue15.0', 'Blue16.0',\n",
       "       'Blue17.0', 'Blue18.0', 'Blue19.0', 'Blue20.0', 'Blue21.0',\n",
       "       'Blue22.0', 'Blue23.0', 'Blue24.0', 'Blue25.0', 'Blue26.0',\n",
       "       'Blue27.0', 'Blue28.0', 'Blue29.0', 'Blue30.0', 'Blue31.0',\n",
       "       'Blue32.0', 'Blue33.0', 'Blue34.0', 'Blue35.0', 'Blue36.0',\n",
       "       'Blue37.0', 'Blue38.0', 'Blue39.0', 'Blue40.0', 'Blue41.0',\n",
       "       'Blue42.0', 'Blue43.0', 'Blue44.0', 'Blue45.0', 'Blue46.0',\n",
       "       'Blue47.0', 'Blue48.0', 'Blue49.0', 'Blue50.0', 'Blue51.0',\n",
       "       'Blue52.0', 'Blue53.0', 'Blue54.0', 'Blue55.0', 'Blue56.0',\n",
       "       'Blue57.0', 'Blue58.0', 'Blue59.0', 'Blue60.0', 'Blue61.0',\n",
       "       'Blue62.0', 'Blue63.0', 'Blue64.0', 'Blue65.0', 'Blue66.0',\n",
       "       'Blue67.0', 'Blue68.0', 'Blue69.0', 'Blue70.0', 'Blue71.0',\n",
       "       'Blue72.0', 'Blue73.0', 'Blue74.0', 'Blue75.0', 'Blue76.0',\n",
       "       'Blue77.0', 'Blue78.0', 'Blue79.0', 'Blue80.0', 'Blue81.0',\n",
       "       'Blue82.0', 'Blue83.0', 'Blue84.0', 'Blue85.0', 'Blue86.0',\n",
       "       'Blue87.0', 'Blue88.0', 'Blue89.0', 'Blue90.0', 'Blue91.0',\n",
       "       'Blue92.0', 'Blue93.0', 'Blue94.0', 'Blue95.0', 'Blue96.0',\n",
       "       'Blue97.0', 'Blue98.0', 'Blue99.0', 'Blue100.0', 'Blue101.0',\n",
       "       'Blue102.0', 'Blue103.0', 'Blue104.0', 'Blue105.0', 'Blue106.0',\n",
       "       'Blue107.0', 'Blue108.0', 'Blue109.0', 'Blue110.0', 'Blue111.0',\n",
       "       'Blue112.0', 'Blue113.0', 'Blue114.0', 'Blue115.0', 'Blue116.0',\n",
       "       'Blue117.0', 'Blue118.0', 'Blue119.0', 'Blue120.0', 'Blue121.0',\n",
       "       'Blue122.0', 'Blue123.0', 'Blue124.0', 'Blue125.0', 'Blue126.0',\n",
       "       'Blue127.0', 'Blue128.0', 'Blue129.0', 'Blue130.0', 'Blue131.0',\n",
       "       'Blue132.0', 'Blue133.0', 'Blue134.0', 'Blue135.0', 'Blue136.0',\n",
       "       'Blue137.0', 'Blue138.0', 'Blue139.0', 'Blue140.0', 'Blue141.0',\n",
       "       'Blue142.0', 'Blue143.0', 'Blue144.0', 'Blue145.0', 'Blue146.0',\n",
       "       'Blue147.0', 'Blue148.0', 'Blue149.0', 'Blue150.0', 'Blue151.0',\n",
       "       'Blue152.0', 'Blue153.0', 'Blue154.0', 'Blue155.0', 'Blue156.0',\n",
       "       'Blue157.0', 'Blue158.0', 'Blue159.0', 'Blue160.0', 'Blue161.0',\n",
       "       'Blue162.0', 'Blue163.0', 'Blue164.0', 'Blue165.0', 'Blue166.0',\n",
       "       'Blue167.0', 'Blue168.0', 'Blue169.0', 'Blue170.0', 'Blue171.0',\n",
       "       'Blue172.0', 'Blue173.0', 'Blue174.0', 'Blue175.0', 'Blue176.0',\n",
       "       'Blue177.0', 'Blue178.0', 'Blue179.0', 'Blue180.0', 'Blue181.0',\n",
       "       'Blue182.0', 'Blue183.0', 'Blue184.0', 'Blue185.0', 'Blue186.0',\n",
       "       'Blue187.0', 'Blue188.0', 'Blue189.0', 'Blue190.0', 'Blue191.0',\n",
       "       'Blue192.0', 'Blue193.0', 'Blue194.0', 'Blue195.0', 'Blue196.0',\n",
       "       'Blue197.0', 'Blue198.0', 'Blue199.0', 'Blue200.0', 'Blue201.0',\n",
       "       'Blue202.0', 'Blue203.0', 'Blue204.0', 'Blue205.0', 'Blue206.0',\n",
       "       'Blue207.0', 'Blue208.0', 'Blue209.0', 'Blue210.0', 'Blue211.0',\n",
       "       'Blue212.0', 'Blue213.0', 'Blue214.0', 'Blue215.0', 'Blue216.0',\n",
       "       'Blue217.0', 'Blue218.0', 'Blue219.0', 'Blue220.0', 'Blue221.0',\n",
       "       'Blue222.0', 'Blue223.0', 'Blue224.0', 'Blue225.0', 'Blue226.0',\n",
       "       'Blue227.0', 'Blue228.0', 'Blue229.0', 'Blue230.0', 'Blue231.0',\n",
       "       'Blue232.0', 'Blue233.0', 'Blue234.0', 'Blue235.0', 'Blue236.0',\n",
       "       'Blue237.0', 'Blue238.0', 'Blue239.0', 'Blue240.0', 'Blue241.0',\n",
       "       'Blue242.0', 'Blue243.0', 'Blue244.0', 'Blue245.0', 'Blue246.0',\n",
       "       'Blue247.0', 'Blue248.0', 'Blue249.0', 'Blue250.0', 'Blue251.0',\n",
       "       'Blue252.0', 'Blue253.0', 'Blue254.0', 'Blue255.0', 'Green0.0',\n",
       "       'Green1.0', 'Green2.0', 'Green3.0', 'Green4.0', 'Green5.0',\n",
       "       'Green6.0', 'Green7.0', 'Green8.0', 'Green9.0', 'Green10.0',\n",
       "       'Green11.0', 'Green12.0', 'Green13.0', 'Green14.0', 'Green15.0',\n",
       "       'Green16.0', 'Green17.0', 'Green18.0', 'Green19.0', 'Green20.0',\n",
       "       'Green21.0', 'Green22.0', 'Green23.0', 'Green24.0', 'Green25.0',\n",
       "       'Green26.0', 'Green27.0', 'Green28.0', 'Green29.0', 'Green30.0',\n",
       "       'Green31.0', 'Green32.0', 'Green33.0', 'Green34.0', 'Green35.0',\n",
       "       'Green36.0', 'Green37.0', 'Green38.0', 'Green39.0', 'Green40.0',\n",
       "       'Green41.0', 'Green42.0', 'Green43.0', 'Green44.0', 'Green45.0',\n",
       "       'Green46.0', 'Green47.0', 'Green48.0', 'Green49.0', 'Green50.0',\n",
       "       'Green51.0', 'Green52.0', 'Green53.0', 'Green54.0', 'Green55.0',\n",
       "       'Green56.0', 'Green57.0', 'Green58.0', 'Green59.0', 'Green60.0',\n",
       "       'Green61.0', 'Green62.0', 'Green63.0', 'Green64.0', 'Green65.0',\n",
       "       'Green66.0', 'Green67.0', 'Green68.0', 'Green69.0', 'Green70.0',\n",
       "       'Green71.0', 'Green72.0', 'Green73.0', 'Green74.0', 'Green75.0',\n",
       "       'Green76.0', 'Green77.0', 'Green78.0', 'Green79.0', 'Green80.0',\n",
       "       'Green81.0', 'Green82.0', 'Green83.0', 'Green84.0', 'Green85.0',\n",
       "       'Green86.0', 'Green87.0', 'Green88.0', 'Green89.0', 'Green90.0',\n",
       "       'Green91.0', 'Green92.0', 'Green93.0', 'Green94.0', 'Green95.0',\n",
       "       'Green96.0', 'Green97.0', 'Green98.0', 'Green99.0', 'Green100.0',\n",
       "       'Green101.0', 'Green102.0', 'Green103.0', 'Green104.0',\n",
       "       'Green105.0', 'Green106.0', 'Green107.0', 'Green108.0',\n",
       "       'Green109.0', 'Green110.0', 'Green111.0', 'Green112.0',\n",
       "       'Green113.0', 'Green114.0', 'Green115.0', 'Green116.0',\n",
       "       'Green117.0', 'Green118.0', 'Green119.0', 'Green120.0',\n",
       "       'Green121.0', 'Green122.0', 'Green123.0', 'Green124.0',\n",
       "       'Green125.0', 'Green126.0', 'Green127.0', 'Green128.0',\n",
       "       'Green129.0', 'Green130.0', 'Green131.0', 'Green132.0',\n",
       "       'Green133.0', 'Green134.0', 'Green135.0', 'Green136.0',\n",
       "       'Green137.0', 'Green138.0', 'Green139.0', 'Green140.0',\n",
       "       'Green141.0', 'Green142.0', 'Green143.0', 'Green144.0',\n",
       "       'Green145.0', 'Green146.0', 'Green147.0', 'Green148.0',\n",
       "       'Green149.0', 'Green150.0', 'Green151.0', 'Green152.0',\n",
       "       'Green153.0', 'Green154.0', 'Green155.0', 'Green156.0',\n",
       "       'Green157.0', 'Green158.0', 'Green159.0', 'Green160.0',\n",
       "       'Green161.0', 'Green162.0', 'Green163.0', 'Green164.0',\n",
       "       'Green165.0', 'Green166.0', 'Green167.0', 'Green168.0',\n",
       "       'Green169.0', 'Green170.0', 'Green171.0', 'Green172.0',\n",
       "       'Green173.0', 'Green174.0', 'Green175.0', 'Green176.0',\n",
       "       'Green177.0', 'Green178.0', 'Green179.0', 'Green180.0',\n",
       "       'Green181.0', 'Green182.0', 'Green183.0', 'Green184.0',\n",
       "       'Green185.0', 'Green186.0', 'Green187.0', 'Green188.0',\n",
       "       'Green189.0', 'Green190.0', 'Green191.0', 'Green192.0',\n",
       "       'Green193.0', 'Green194.0', 'Green195.0', 'Green196.0',\n",
       "       'Green197.0', 'Green198.0', 'Green199.0', 'Green200.0',\n",
       "       'Green201.0', 'Green202.0', 'Green203.0', 'Green204.0',\n",
       "       'Green205.0', 'Green206.0', 'Green207.0', 'Green208.0',\n",
       "       'Green209.0', 'Green210.0', 'Green211.0', 'Green212.0',\n",
       "       'Green213.0', 'Green214.0', 'Green215.0', 'Green216.0',\n",
       "       'Green217.0', 'Green218.0', 'Green219.0', 'Green220.0',\n",
       "       'Green221.0', 'Green222.0', 'Green223.0', 'Green224.0',\n",
       "       'Green225.0', 'Green226.0', 'Green227.0', 'Green228.0',\n",
       "       'Green229.0', 'Green230.0', 'Green231.0', 'Green232.0',\n",
       "       'Green233.0', 'Green234.0', 'Green235.0', 'Green236.0',\n",
       "       'Green237.0', 'Green238.0', 'Green239.0', 'Green240.0',\n",
       "       'Green241.0', 'Green242.0', 'Green243.0', 'Green244.0',\n",
       "       'Green245.0', 'Green246.0', 'Green247.0', 'Green248.0',\n",
       "       'Green249.0', 'Green250.0', 'Green251.0', 'Green252.0',\n",
       "       'Green253.0', 'Green254.0', 'Green255.0', 'Red0.0', 'Red1.0',\n",
       "       'Red2.0', 'Red3.0', 'Red4.0', 'Red5.0', 'Red6.0', 'Red7.0',\n",
       "       'Red8.0', 'Red9.0', 'Red10.0', 'Red11.0', 'Red12.0', 'Red13.0',\n",
       "       'Red14.0', 'Red15.0', 'Red16.0', 'Red17.0', 'Red18.0', 'Red19.0',\n",
       "       'Red20.0', 'Red21.0', 'Red22.0', 'Red23.0', 'Red24.0', 'Red25.0',\n",
       "       'Red26.0', 'Red27.0', 'Red28.0', 'Red29.0', 'Red30.0', 'Red31.0',\n",
       "       'Red32.0', 'Red33.0', 'Red34.0', 'Red35.0', 'Red36.0', 'Red37.0',\n",
       "       'Red38.0', 'Red39.0', 'Red40.0', 'Red41.0', 'Red42.0', 'Red43.0',\n",
       "       'Red44.0', 'Red45.0', 'Red46.0', 'Red47.0', 'Red48.0', 'Red49.0',\n",
       "       'Red50.0', 'Red51.0', 'Red52.0', 'Red53.0', 'Red54.0', 'Red55.0',\n",
       "       'Red56.0', 'Red57.0', 'Red58.0', 'Red59.0', 'Red60.0', 'Red61.0',\n",
       "       'Red62.0', 'Red63.0', 'Red64.0', 'Red65.0', 'Red66.0', 'Red67.0',\n",
       "       'Red68.0', 'Red69.0', 'Red70.0', 'Red71.0', 'Red72.0', 'Red73.0',\n",
       "       'Red74.0', 'Red75.0', 'Red76.0', 'Red77.0', 'Red78.0', 'Red79.0',\n",
       "       'Red80.0', 'Red81.0', 'Red82.0', 'Red83.0', 'Red84.0', 'Red85.0',\n",
       "       'Red86.0', 'Red87.0', 'Red88.0', 'Red89.0', 'Red90.0', 'Red91.0',\n",
       "       'Red92.0', 'Red93.0', 'Red94.0', 'Red95.0', 'Red96.0', 'Red97.0',\n",
       "       'Red98.0', 'Red99.0', 'Red100.0', 'Red101.0', 'Red102.0',\n",
       "       'Red103.0', 'Red104.0', 'Red105.0', 'Red106.0', 'Red107.0',\n",
       "       'Red108.0', 'Red109.0', 'Red110.0', 'Red111.0', 'Red112.0',\n",
       "       'Red113.0', 'Red114.0', 'Red115.0', 'Red116.0', 'Red117.0',\n",
       "       'Red118.0', 'Red119.0', 'Red120.0', 'Red121.0', 'Red122.0',\n",
       "       'Red123.0', 'Red124.0', 'Red125.0', 'Red126.0', 'Red127.0',\n",
       "       'Red128.0', 'Red129.0', 'Red130.0', 'Red131.0', 'Red132.0',\n",
       "       'Red133.0', 'Red134.0', 'Red135.0', 'Red136.0', 'Red137.0',\n",
       "       'Red138.0', 'Red139.0', 'Red140.0', 'Red141.0', 'Red142.0',\n",
       "       'Red143.0', 'Red144.0', 'Red145.0', 'Red146.0', 'Red147.0',\n",
       "       'Red148.0', 'Red149.0', 'Red150.0', 'Red151.0', 'Red152.0',\n",
       "       'Red153.0', 'Red154.0', 'Red155.0', 'Red156.0', 'Red157.0',\n",
       "       'Red158.0', 'Red159.0', 'Red160.0', 'Red161.0', 'Red162.0',\n",
       "       'Red163.0', 'Red164.0', 'Red165.0', 'Red166.0', 'Red167.0',\n",
       "       'Red168.0', 'Red169.0', 'Red170.0', 'Red171.0', 'Red172.0',\n",
       "       'Red173.0', 'Red174.0', 'Red175.0', 'Red176.0', 'Red177.0',\n",
       "       'Red178.0', 'Red179.0', 'Red180.0', 'Red181.0', 'Red182.0',\n",
       "       'Red183.0', 'Red184.0', 'Red185.0', 'Red186.0', 'Red187.0',\n",
       "       'Red188.0', 'Red189.0', 'Red190.0', 'Red191.0', 'Red192.0',\n",
       "       'Red193.0', 'Red194.0', 'Red195.0', 'Red196.0', 'Red197.0',\n",
       "       'Red198.0', 'Red199.0', 'Red200.0', 'Red201.0', 'Red202.0',\n",
       "       'Red203.0', 'Red204.0', 'Red205.0', 'Red206.0', 'Red207.0',\n",
       "       'Red208.0', 'Red209.0', 'Red210.0', 'Red211.0', 'Red212.0',\n",
       "       'Red213.0', 'Red214.0', 'Red215.0', 'Red216.0', 'Red217.0',\n",
       "       'Red218.0', 'Red219.0', 'Red220.0', 'Red221.0', 'Red222.0',\n",
       "       'Red223.0', 'Red224.0', 'Red225.0', 'Red226.0', 'Red227.0',\n",
       "       'Red228.0', 'Red229.0', 'Red230.0', 'Red231.0', 'Red232.0',\n",
       "       'Red233.0', 'Red234.0', 'Red235.0', 'Red236.0', 'Red237.0',\n",
       "       'Red238.0', 'Red239.0', 'Red240.0', 'Red241.0', 'Red242.0',\n",
       "       'Red243.0', 'Red244.0', 'Red245.0', 'Red246.0', 'Red247.0',\n",
       "       'Red248.0', 'Red249.0', 'Red250.0', 'Red251.0', 'Red252.0',\n",
       "       'Red253.0', 'Red254.0', 'Red255.0'], dtype='<U32')"
      ]
     },
     "execution_count": 94,
     "metadata": {},
     "output_type": "execute_result"
    }
   ],
   "source": [
    "Feats"
   ]
  },
  {
   "cell_type": "code",
   "execution_count": 114,
   "metadata": {},
   "outputs": [
    {
     "data": {
      "text/plain": [
       "array([['Red225.0', 'Red229.0', 'Red226.0', 'Red227.0', 'Red228.0',\n",
       "        'Red224.0', 'Red230.0', 'Red221.0', 'Red222.0', 'Red223.0',\n",
       "        'Red231.0', 'Red254.0', 'Red219.0', 'Red220.0', 'Red232.0',\n",
       "        'Red253.0', 'Red218.0', 'Red234.0', 'Red233.0', 'Red252.0',\n",
       "        'Red236.0', 'Red235.0', 'Red216.0', 'Red217.0', 'Red215.0',\n",
       "        'Red237.0', 'Red251.0', 'Red255.0', 'Red238.0', 'Red214.0',\n",
       "        'Red239.0', 'Red212.0', 'Red213.0', 'Red241.0', 'Red193.0',\n",
       "        'Red240.0', 'Red210.0', 'Red211.0', 'Red190.0', 'Red191.0',\n",
       "        'Red184.0', 'Red189.0', 'Red194.0', 'Red188.0', 'Green98.0',\n",
       "        'Red192.0', 'Green100.0', 'Red244.0', 'Green99.0', 'Green90.0',\n",
       "        'Red195.0', 'Green91.0', 'Red196.0', 'Green101.0', 'Red185.0',\n",
       "        'Red250.0', 'Red243.0', 'Green89.0', 'Red242.0', 'Green88.0',\n",
       "        'Green103.0', 'Green102.0', 'Red187.0', 'Green93.0', 'Red249.0',\n",
       "        'Red186.0', 'Green104.0', 'Green105.0', 'Red209.0', 'Red208.0',\n",
       "        'Green92.0', 'Red197.0', 'Blue50.0', 'Red183.0', 'Green87.0',\n",
       "        'Red182.0', 'Blue46.0', 'Red181.0', 'Green106.0', 'Blue47.0',\n",
       "        'Blue48.0', 'Red201.0', 'Blue45.0', 'Blue49.0', 'Red207.0',\n",
       "        'Red200.0', 'Red199.0', 'Green97.0', 'Red175.0', 'Red202.0',\n",
       "        'Green94.0', 'Green86.0', 'Red173.0', 'Green187.0', 'Blue51.0',\n",
       "        'Red174.0', 'Green85.0', 'Red198.0', 'Green96.0', 'Green186.0',\n",
       "        'Blue57.0', 'Blue74.0', 'Green188.0', 'Red172.0', 'Red245.0',\n",
       "        'Blue54.0', 'Green189.0', 'Blue73.0', 'Blue70.0', 'Blue52.0',\n",
       "        'Red177.0', 'Green107.0', 'Blue44.0', 'Blue53.0', 'Red203.0',\n",
       "        'Red204.0', 'Red206.0', 'Blue71.0', 'Blue75.0', 'Red180.0',\n",
       "        'Blue55.0', 'Blue56.0', 'Green185.0', 'Red246.0', 'Blue72.0',\n",
       "        'Blue62.0', 'Red176.0', 'Green190.0', 'Red205.0', 'Blue59.0',\n",
       "        'Blue58.0', 'Blue64.0', 'Green95.0', 'Blue43.0', 'Green83.0',\n",
       "        'Red179.0', 'Green84.0', 'Red248.0', 'Green149.0', 'Green184.0',\n",
       "        'Green191.0', 'Red178.0', 'Green108.0', 'Green148.0',\n",
       "        'Green144.0', 'Blue60.0', 'Blue80.0', 'Blue69.0', 'Green183.0',\n",
       "        'Green151.0', 'Blue63.0', 'Blue77.0', 'Blue76.0', 'Green182.0',\n",
       "        'Blue78.0', 'Green147.0', 'Green145.0', 'Red171.0', 'Green146.0',\n",
       "        'Green143.0', 'Blue68.0', 'Green150.0', 'Green142.0',\n",
       "        'Blue121.0', 'Blue79.0', 'Red247.0', 'Blue81.0', 'Blue66.0',\n",
       "        'Blue82.0', 'Blue61.0', 'Blue42.0', 'Green109.0', 'Blue65.0',\n",
       "        'Green82.0', 'Blue67.0', 'Green117.0', 'Green138.0', 'Blue122.0',\n",
       "        'Green141.0', 'Green115.0', 'Blue123.0', 'Blue119.0',\n",
       "        'Green112.0', 'Blue117.0', 'Red166.0', 'Green116.0',\n",
       "        'Green152.0', 'Green140.0', 'Blue120.0', 'Blue118.0',\n",
       "        'Green181.0', 'Green153.0', 'Green111.0', 'Green110.0',\n",
       "        'Green139.0', 'Green192.0', 'Green118.0', 'Blue124.0',\n",
       "        'Green137.0', 'Green124.0', 'Blue83.0', 'Green136.0',\n",
       "        'Green114.0', 'Green123.0', 'Green113.0', 'Green180.0',\n",
       "        'Green81.0', 'Green135.0', 'Blue125.0', 'Green193.0',\n",
       "        'Green211.0', 'Green126.0', 'Green155.0', 'Blue116.0',\n",
       "        'Blue126.0', 'Blue115.0', 'Blue84.0', 'Green194.0', 'Red170.0',\n",
       "        'Blue114.0', 'Blue127.0', 'Blue113.0', 'Green121.0', 'Red168.0',\n",
       "        'Red165.0', 'Red169.0', 'Green134.0', 'Green120.0', 'Blue102.0',\n",
       "        'Green125.0', 'Red167.0', 'Green154.0', 'Green119.0',\n",
       "        'Green122.0', 'Red144.0', 'Blue112.0', 'Blue110.0', 'Blue41.0',\n",
       "        'Blue111.0', 'Green157.0', 'Green210.0', 'Green179.0',\n",
       "        'Blue96.0', 'Blue40.0', 'Blue129.0', 'Green130.0', 'Green209.0',\n",
       "        'Green129.0', 'Blue98.0', 'Green156.0', 'Blue97.0', 'Blue99.0',\n",
       "        'Blue85.0', 'Red143.0', 'Blue100.0', 'Blue142.0', 'Green133.0',\n",
       "        'Blue101.0', 'Green80.0', 'Red141.0', 'Green131.0', 'Blue95.0',\n",
       "        'Red151.0', 'Green128.0', 'Green127.0', 'Green178.0', 'Red145.0',\n",
       "        'Blue143.0', 'Green132.0', 'Blue145.0', 'Blue140.0', 'Blue131.0',\n",
       "        'Blue130.0', 'Blue103.0', 'Blue134.0', 'Blue105.0', 'Blue144.0',\n",
       "        'Red146.0', 'Blue141.0', 'Red142.0', 'Red148.0', 'Blue104.0',\n",
       "        'Green159.0', 'Blue146.0', 'Blue132.0', 'Blue39.0', 'Green167.0',\n",
       "        'Blue86.0', 'Green158.0', 'Blue133.0', 'Blue137.0', 'Green195.0',\n",
       "        'Blue135.0', 'Red149.0', 'Blue147.0', 'Red159.0', 'Red158.0',\n",
       "        'Blue149.0', 'Blue108.0', 'Blue139.0', 'Red139.0', 'Blue106.0',\n",
       "        'Blue148.0', 'Red161.0', 'Red157.0', 'Green160.0', 'Green161.0',\n",
       "        'Red160.0', 'Red164.0', 'Blue211.0', 'Blue162.0', 'Blue218.0',\n",
       "        'Green237.0', 'Blue215.0', 'Green236.0', 'Blue209.0',\n",
       "        'Blue208.0', 'Blue207.0', 'Blue206.0', 'Blue204.0', 'Blue203.0',\n",
       "        'Blue202.0', 'Blue159.0', 'Green162.0', 'Blue160.0', 'Blue161.0',\n",
       "        'Blue163.0', 'Green163.0', 'Green173.0', 'Green165.0',\n",
       "        'Green206.0', 'Green207.0', 'Green208.0', 'Blue169.0',\n",
       "        'Blue168.0', 'Green212.0', 'Green213.0', 'Green214.0',\n",
       "        'Green215.0', 'Red136.0', 'Green216.0', 'Red135.0', 'Red134.0',\n",
       "        'Red133.0', 'Red132.0', 'Red131.0', 'Red130.0', 'Red129.0',\n",
       "        'Red128.0', 'Red127.0', 'Green217.0', 'Red137.0', 'Red138.0',\n",
       "        'Red140.0', 'Green166.0', 'Green168.0', 'Green169.0',\n",
       "        'Green170.0', 'Green171.0', 'Green238.0', 'Green174.0',\n",
       "        'Green175.0', 'Green176.0', 'Green177.0', 'Red156.0', 'Red155.0',\n",
       "        'Red154.0', 'Red153.0', 'Red152.0', 'Red150.0', 'Red147.0',\n",
       "        'Blue165.0', 'Blue166.0', 'Green196.0', 'Blue167.0',\n",
       "        'Green164.0', 'Green239.0', 'Blue157.0', 'Green77.0',\n",
       "        'Green245.0', 'Blue28.0', 'Blue27.0', 'Green66.0', 'Green67.0',\n",
       "        'Blue26.0', 'Blue158.0', 'Blue25.0', 'Green71.0', 'Green72.0',\n",
       "        'Green73.0', 'Green74.0', 'Green75.0', 'Green76.0', 'Green70.0',\n",
       "        'Blue31.0', 'Blue107.0', 'Blue93.0', 'Blue32.0', 'Blue29.0',\n",
       "        'Blue33.0', 'Blue34.0', 'Blue35.0', 'Blue36.0', 'Blue94.0',\n",
       "        'Blue37.0', 'Blue87.0', 'Blue88.0', 'Blue89.0', 'Blue90.0',\n",
       "        'Blue91.0', 'Blue92.0', 'Blue38.0', 'Green78.0', 'Blue30.0',\n",
       "        'Blue109.0', 'Blue21.0', 'Green240.0', 'Green241.0', 'Blue155.0',\n",
       "        'Blue22.0', 'Blue153.0', 'Blue152.0', 'Blue151.0', 'Blue150.0',\n",
       "        'Blue23.0', 'Green79.0', 'Green242.0', 'Blue138.0', 'Green247.0',\n",
       "        'Blue156.0', 'Blue136.0', 'Green244.0', 'Green4.0', 'Green2.0',\n",
       "        'Green1.0', 'Green3.0', 'Green243.0', 'Green11.0', 'Blue24.0',\n",
       "        'Blue128.0', 'Blue154.0', 'Blue212.0', 'Green5.0', 'Green64.0',\n",
       "        'Blue220.0', 'Red162.0', 'Red163.0', 'Green246.0', 'Blue200.0',\n",
       "        'Blue164.0', 'Green205.0', 'Red125.0', 'Green12.0', 'Green63.0',\n",
       "        'Green61.0', 'Red126.0', 'Red124.0', 'Green172.0', 'Green65.0',\n",
       "        'Green68.0', 'Blue201.0', 'Blue20.0', 'Blue9.0', 'Blue170.0',\n",
       "        'Blue213.0', 'Red11.0', 'Blue216.0', 'Green69.0', 'Blue210.0',\n",
       "        'Blue8.0', 'Blue11.0', 'Green218.0', 'Blue219.0', 'Blue214.0',\n",
       "        'Green235.0', 'Red122.0', 'Blue254.0', 'Red10.0', 'Green248.0',\n",
       "        'Blue18.0', 'Red9.0', 'Blue7.0', 'Red13.0', 'Red123.0',\n",
       "        'Blue205.0', 'Green13.0', 'Blue19.0', 'Red4.0', 'Green62.0',\n",
       "        'Red12.0', 'Blue217.0', 'Blue228.0', 'Blue6.0', 'Blue10.0',\n",
       "        'Green60.0', 'Blue221.0', 'Blue13.0', 'Red5.0', 'Blue171.0',\n",
       "        'Blue251.0', 'Green10.0', 'Red6.0', 'Blue5.0', 'Blue236.0',\n",
       "        'Red8.0', 'Green6.0', 'Green202.0', 'Blue229.0', 'Blue222.0',\n",
       "        'Red121.0', 'Green197.0', 'Blue12.0', 'Red15.0', 'Red3.0',\n",
       "        'Red14.0', 'Green9.0', 'Red1.0', 'Blue237.0', 'Green219.0',\n",
       "        'Red120.0', 'Blue173.0', 'Red2.0', 'Blue249.0', 'Blue17.0',\n",
       "        'Green249.0', 'Blue172.0', 'Blue227.0', 'Blue253.0', 'Blue15.0',\n",
       "        'Blue234.0', 'Blue250.0', 'Green220.0', 'Green38.0', 'Green14.0',\n",
       "        'Blue174.0', 'Green201.0', 'Green7.0', 'Blue252.0', 'Green199.0',\n",
       "        'Red7.0', 'Blue175.0', 'Blue14.0', 'Green8.0', 'Green234.0',\n",
       "        'Green58.0', 'Green37.0', 'Blue238.0', 'Blue231.0', 'Blue232.0',\n",
       "        'Blue4.0', 'Green35.0', 'Blue176.0', 'Green39.0', 'Green36.0',\n",
       "        'Green204.0', 'Green41.0', 'Blue199.0', 'Blue226.0',\n",
       "        'Green233.0', 'Red16.0', 'Blue224.0', 'Green252.0', 'Blue230.0',\n",
       "        'Blue225.0', 'Green15.0', 'Blue198.0', 'Green33.0', 'Green221.0',\n",
       "        'Green16.0', 'Blue233.0', 'Blue235.0', 'Green198.0', 'Red117.0',\n",
       "        'Blue3.0', 'Green251.0', 'Green203.0', 'Blue239.0', 'Green32.0',\n",
       "        'Green28.0', 'Green20.0', 'Green40.0', 'Blue194.0', 'Green59.0',\n",
       "        'Blue223.0', 'Blue197.0', 'Green225.0', 'Blue177.0', 'Red116.0',\n",
       "        'Red108.0', 'Blue247.0', 'Blue245.0', 'Green19.0', 'Red110.0',\n",
       "        'Green230.0', 'Red79.0', 'Green253.0', 'Blue246.0', 'Blue16.0',\n",
       "        'Blue2.0', 'Blue196.0', 'Red17.0', 'Red118.0', 'Red77.0',\n",
       "        'Green250.0', 'Red109.0', 'Green226.0', 'Red76.0', 'Blue243.0',\n",
       "        'Red78.0', 'Blue241.0', 'Green57.0', 'Red111.0', 'Green224.0',\n",
       "        'Green17.0', 'Red119.0', 'Green254.0', 'Red72.0', 'Green30.0',\n",
       "        'Blue240.0', 'Blue244.0', 'Green232.0', 'Green27.0', 'Green31.0',\n",
       "        'Green231.0', 'Red73.0', 'Red18.0', 'Green29.0', 'Red71.0',\n",
       "        'Red75.0', 'Red69.0', 'Green18.0', 'Blue195.0', 'Red66.0',\n",
       "        'Green228.0', 'Blue248.0', 'Red107.0', 'Red74.0', 'Green200.0',\n",
       "        'Red65.0', 'Green229.0', 'Green34.0', 'Blue242.0', 'Green222.0',\n",
       "        'Red80.0', 'Green227.0', 'Green0.0', 'Red70.0', 'Red106.0',\n",
       "        'Blue193.0', 'Blue191.0', 'Red42.0', 'Green26.0', 'Red51.0',\n",
       "        'Green43.0', 'Red44.0', 'Red81.0', 'Red48.0', 'Red52.0',\n",
       "        'Green44.0', 'Green42.0', 'Red64.0', 'Red68.0', 'Red54.0',\n",
       "        'Red19.0', 'Red104.0', 'Red50.0', 'Red47.0', 'Red55.0',\n",
       "        'Red49.0', 'Red67.0', 'Red82.0', 'Blue192.0', 'Red43.0',\n",
       "        'Red63.0', 'Red45.0', 'Red115.0', 'Green21.0', 'Blue178.0',\n",
       "        'Red53.0', 'Green56.0', 'Red62.0', 'Red46.0', 'Red105.0',\n",
       "        'Blue179.0', 'Red20.0', 'Green22.0', 'Red41.0', 'Blue189.0',\n",
       "        'Red39.0', 'Red40.0', 'Green223.0', 'Red83.0', 'Red103.0',\n",
       "        'Red56.0', 'Red61.0', 'Red100.0', 'Blue190.0', 'Red98.0',\n",
       "        'Red0.0', 'Green25.0', 'Blue1.0', 'Red60.0', 'Red84.0',\n",
       "        'Red102.0', 'Red58.0', 'Red59.0', 'Red38.0', 'Red99.0',\n",
       "        'Red112.0', 'Red113.0', 'Blue188.0', 'Red27.0', 'Red57.0',\n",
       "        'Blue187.0', 'Green51.0', 'Red101.0', 'Red37.0', 'Red91.0',\n",
       "        'Blue184.0', 'Green24.0', 'Blue180.0', 'Red94.0', 'Red97.0',\n",
       "        'Red95.0', 'Red29.0', 'Red30.0', 'Red114.0', 'Red28.0',\n",
       "        'Green52.0', 'Red85.0', 'Red35.0', 'Red31.0', 'Green55.0',\n",
       "        'Blue185.0', 'Red96.0', 'Red92.0', 'Red87.0', 'Red26.0',\n",
       "        'Blue181.0', 'Green49.0', 'Red36.0', 'Green54.0', 'Red93.0',\n",
       "        'Red21.0', 'Red34.0', 'Red33.0', 'Blue255.0', 'Green50.0',\n",
       "        'Red32.0', 'Blue186.0', 'Red25.0', 'Green47.0', 'Red86.0',\n",
       "        'Red88.0', 'Blue182.0', 'Green23.0', 'Red24.0', 'Green53.0',\n",
       "        'Green45.0', 'Green48.0', 'Green46.0', 'Red89.0', 'Red23.0',\n",
       "        'Red90.0', 'Blue183.0', 'Green255.0', 'Red22.0', 'Blue0.0']],\n",
       "      dtype='<U32')"
      ]
     },
     "execution_count": 114,
     "metadata": {},
     "output_type": "execute_result"
    }
   ],
   "source": [
    "# finding the most important weights in descending order\n",
    "\n",
    "Feats[np.argsort(weights)]"
   ]
  },
  {
   "cell_type": "code",
   "execution_count": 115,
   "metadata": {},
   "outputs": [
    {
     "data": {
      "text/plain": [
       "array([[ 3.3699439 ,  2.03396925,  1.29426661,  1.11141374,  0.93112615,\n",
       "         0.54647508,  0.43578466,  0.31157718,  0.23664954,  0.18509913,\n",
       "         0.44254012,  0.23733008,  0.63250881,  0.45991089,  0.89420491,\n",
       "         0.81736978,  1.29246966,  0.78379145,  0.30527282,  0.34514318,\n",
       "         0.18302427,  0.        ,  0.        ,  0.        ,  0.        ,\n",
       "         0.        ,  0.        ,  0.        ,  0.        ,  0.        ,\n",
       "         0.        ,  0.        ,  0.        ,  0.        ,  0.        ,\n",
       "         0.        ,  0.        ,  0.        ,  0.        , -0.21952457,\n",
       "        -0.46365753, -0.49145066, -1.06451213, -1.34096663, -1.48511705,\n",
       "        -1.66612105, -1.70484055, -1.68978289, -1.68277643, -1.65834353,\n",
       "        -1.79813455, -1.59985683, -1.49320402, -1.48450248, -1.52234329,\n",
       "        -1.42309591, -1.42131118, -1.55590908, -1.3648839 , -1.36604698,\n",
       "        -1.19490212, -1.06625459, -1.40088739, -1.15467506, -1.36328974,\n",
       "        -1.0475787 , -1.07443362, -1.02370856, -1.08969129, -1.18009536,\n",
       "        -1.50139189, -1.45299055, -1.40311809, -1.50289065, -1.55529958,\n",
       "        -1.44501142, -1.15310372, -1.15461756, -1.13361169, -1.07915206,\n",
       "        -1.1851829 , -1.07583258, -1.06748484, -0.82068579, -0.66635612,\n",
       "        -0.40174852, -0.21223003,  0.        ,  0.        ,  0.        ,\n",
       "         0.        ,  0.        ,  0.        ,  0.        ,  0.        ,\n",
       "        -0.32835323, -0.47067202, -0.40656964, -0.42311253, -0.40574118,\n",
       "        -0.38562159, -0.35921944, -0.57976468, -0.27754494, -0.25429072,\n",
       "        -0.27297826, -0.08571914,  0.        , -0.13542841,  0.        ,\n",
       "        -0.50413817, -0.48868873, -0.51256496, -0.61843881, -0.64544111,\n",
       "        -0.66712623, -0.68519286, -0.96137539, -0.90307692, -0.99220718,\n",
       "        -0.92027106, -1.08163235, -1.01010911, -0.99944041, -0.84621314,\n",
       "        -0.74551563, -0.68274167, -0.61917859,  0.        , -0.45450197,\n",
       "        -0.28261079, -0.28284271, -0.23817275, -0.19830906, -0.27555122,\n",
       "        -0.19299865,  0.        , -0.1971119 ,  0.        , -0.10202444,\n",
       "        -0.28484283, -0.26522637, -0.37995058, -0.30324105, -0.27274764,\n",
       "        -0.29113817, -0.24034255, -0.16383142, -0.00412321, -0.13846358,\n",
       "         0.        ,  0.        ,  0.        ,  0.        ,  0.        ,\n",
       "         0.        ,  0.        ,  0.        ,  0.        ,  0.        ,\n",
       "         0.        ,  0.        ,  0.        ,  0.        ,  0.06665193,\n",
       "         0.        ,  0.        ,  0.        ,  0.        ,  0.        ,\n",
       "         0.18802528,  0.49661464,  0.79148392,  0.74906887,  0.872513  ,\n",
       "         0.89106797,  0.93276455,  1.23080186,  1.86041276,  1.89093426,\n",
       "         2.27933386,  2.42961336,  2.64519155,  2.8303681 ,  2.25284362,\n",
       "         2.40527919,  2.54673338,  2.16996557,  2.14829846,  1.91012731,\n",
       "         1.98279598,  1.67835231,  1.82190809,  1.67390845,  1.17074115,\n",
       "         1.57247094,  1.29603377,  1.20688764,  1.00499425,  0.95287775,\n",
       "         0.06590207,  0.17271111,  0.        ,  0.        ,  0.        ,\n",
       "         0.32783828,  0.        ,  0.        ,  0.        ,  0.        ,\n",
       "         0.22265552,  0.        ,  0.00709413,  0.19877319,  0.24114188,\n",
       "         0.        ,  0.20924151,  0.39449138,  0.        ,  0.24100514,\n",
       "         0.03383963,  0.45330122,  0.59462443,  1.189068  ,  0.98215904,\n",
       "         0.9957326 ,  0.95883245,  0.79270556,  0.42841586,  0.5902328 ,\n",
       "         0.98427626,  0.91133958,  0.91929293,  1.05505148,  0.82157481,\n",
       "         1.06547092,  0.55488545,  0.72548445,  0.90977116,  1.12261097,\n",
       "         1.42803176,  1.3843631 ,  1.62759385,  1.37271708,  1.43059891,\n",
       "         1.26462724,  1.28850178,  1.25702948,  1.60419616,  0.77132042,\n",
       "         0.82611404,  0.5074238 ,  0.88532464,  0.79879514,  0.26811877,\n",
       "         2.49491723,  1.64388947,  0.        ,  0.        ,  0.        ,\n",
       "         0.        ,  0.00828992,  0.57085807,  0.87461665,  0.9001264 ,\n",
       "         0.69376645,  0.51309798,  0.        ,  0.08980983,  0.33517654,\n",
       "         0.86905126,  1.00100037,  1.03292886,  1.39694248,  1.5712482 ,\n",
       "         1.2706552 ,  1.1519049 ,  1.85023557,  1.89650201,  2.65972953,\n",
       "         2.25700679,  2.01878481,  1.68137543,  1.45102555,  1.14517089,\n",
       "         1.51335116,  1.42589127,  1.46298079,  1.12567961,  1.0114942 ,\n",
       "         1.62680924,  0.93179601,  0.93607406,  0.90902335,  0.85905584,\n",
       "         0.93284664,  1.15775587,  0.94784337,  1.76526844,  1.73035008,\n",
       "         1.7638937 ,  2.69846401,  2.73038476,  2.59053262,  2.7067627 ,\n",
       "         2.43202695,  2.50629823,  2.21074121,  2.36626029,  2.69289167,\n",
       "         2.47291696,  2.39046843,  1.86593355,  1.38687605,  0.90557371,\n",
       "         1.18460854,  0.45165716,  0.11208733,  0.37310676,  0.09770747,\n",
       "         0.01831105,  0.14046862,  0.        ,  0.        ,  0.16203444,\n",
       "         0.22033438,  0.        ,  0.        ,  0.        ,  0.        ,\n",
       "         0.        ,  0.        ,  0.        ,  0.        ,  0.        ,\n",
       "         0.        , -0.35823876, -0.74840977, -1.03753305, -1.31438482,\n",
       "        -1.29277295, -1.5805125 , -1.61810998, -1.74201302, -1.92589503,\n",
       "        -1.93688319, -1.9920466 , -1.97829506, -1.80046257, -1.89478647,\n",
       "        -1.63086977, -1.34242423, -1.56497401, -1.6492106 , -2.03953258,\n",
       "        -1.998059  , -2.02718438, -1.97273289, -1.90409628, -1.91639115,\n",
       "        -1.8417708 , -1.83112147, -1.69410895, -1.48654612, -1.2294528 ,\n",
       "        -1.05884165, -0.87990726, -0.88776275, -0.98454876, -0.77905461,\n",
       "        -0.78829391, -1.00084522, -0.94947822, -1.01679119, -0.85226852,\n",
       "        -0.56113978, -0.5820296 , -0.61362465, -0.54876043, -0.78630699,\n",
       "        -0.82714048, -0.57719004, -0.71651147, -0.32036359, -0.32125411,\n",
       "        -0.43242319, -0.44797867, -0.328361  , -0.29868808, -0.37968931,\n",
       "        -0.58811087, -0.7481525 , -0.80455291, -0.8411488 , -1.01110024,\n",
       "        -0.87795238, -0.93151408, -1.00088038, -1.08382096, -1.09115034,\n",
       "        -1.20317347, -1.11363089, -1.10031701, -1.11908018, -1.22207569,\n",
       "        -1.25456041, -1.08874144, -1.15538841, -0.93405616, -0.89815341,\n",
       "        -0.57362344, -0.69294477, -0.41484087, -0.48520493, -0.20731719,\n",
       "        -0.24708276,  0.        ,  0.        ,  0.        ,  0.        ,\n",
       "         0.        ,  0.        ,  0.        , -0.21822218,  0.        ,\n",
       "         0.        ,  0.        ,  0.        ,  0.13411505,  0.        ,\n",
       "         0.        ,  0.        ,  0.        ,  0.        , -0.31831578,\n",
       "        -0.47087407, -0.77688045, -0.89992355, -1.13589637, -1.17864103,\n",
       "        -1.24584883, -1.41637911, -1.56159206, -1.60665967, -1.54731117,\n",
       "        -1.50655873, -1.39178144, -1.23541725, -0.86535318, -0.73595167,\n",
       "        -0.65988503, -0.19612059,  0.        ,  0.62020679,  1.07351063,\n",
       "         0.88610725,  1.61953903,  0.87420606,  0.57727354,  1.12009227,\n",
       "         0.94320557,  0.07883586,  0.        ,  0.        ,  0.        ,\n",
       "        -0.43979431, -0.47325084, -0.71991245,  0.        ,  0.        ,\n",
       "         0.        ,  0.        ,  0.        ,  0.        ,  0.23786528,\n",
       "         0.73056759,  0.8303841 ,  1.0183078 ,  1.62892865,  1.93598579,\n",
       "         1.38993928,  1.21579399,  1.35924011,  1.64048948,  1.58430669,\n",
       "         1.62538924,  1.27413031,  1.46505802,  1.43136539,  0.96295936,\n",
       "         0.90498354,  0.2436409 ,  0.        ,  0.        ,  0.        ,\n",
       "         0.        ,  0.        ,  0.        ,  0.        ,  0.        ,\n",
       "         0.        ,  0.        ,  0.06235789,  0.        ,  0.28779311,\n",
       "         0.78657963,  1.32886335,  1.11726116,  0.98243813,  1.28600216,\n",
       "         1.40989285,  2.87357641,  2.01548232,  0.72492398,  0.75960272,\n",
       "         0.64797373,  0.36983971,  0.47245885,  0.53153497,  0.89018488,\n",
       "         0.5560997 ,  0.30982172,  0.27851851,  0.20177639,  0.37938708,\n",
       "         0.31627235,  0.6933043 ,  0.63917425,  0.97997357,  1.3148662 ,\n",
       "         1.50816141,  1.77916258,  1.89468981,  2.47705824,  2.92039858,\n",
       "         2.76162549,  2.67500559,  2.5578687 ,  2.42640895,  2.15940052,\n",
       "         2.34058343,  2.30959092,  2.33367338,  2.38185952,  2.50675044,\n",
       "         2.48296546,  2.47832918,  2.37864547,  2.43371769,  2.24604004,\n",
       "         2.11286645,  1.9140651 ,  1.92479466,  1.90177286,  1.67968998,\n",
       "         1.82935141,  1.73193766,  1.84599164,  1.8794088 ,  1.79447488,\n",
       "         1.74679429,  1.7981085 ,  1.78479496,  1.70859822,  1.75489473,\n",
       "         1.86282631,  1.77914915,  1.79519785,  1.94977794,  2.16793985,\n",
       "         2.10045167,  2.10083993,  2.05477031,  1.95069742,  1.86978847,\n",
       "         1.83391302,  1.76798935,  1.62255036,  1.57257459,  1.80144427,\n",
       "         1.7716057 ,  1.55209695,  1.64562817,  1.53221416,  1.4133783 ,\n",
       "         1.47578637,  1.61185048,  1.53537423,  1.36826558,  1.32388626,\n",
       "         1.37448404,  1.27476778,  1.63334218,  1.73498146,  1.82140484,\n",
       "         1.93922033,  2.07981432,  2.37853291,  2.5935367 ,  2.41794122,\n",
       "         2.61858231,  2.750023  ,  2.78310923,  2.24620185,  2.40870816,\n",
       "         2.47699672,  2.29463047,  2.30199191,  2.4057664 ,  2.30160909,\n",
       "         2.01148322,  2.11557383,  1.98109463,  2.24071171,  2.09326147,\n",
       "         1.93962465,  1.78048498,  1.88256321,  1.66435314,  1.60769582,\n",
       "         1.24801394,  1.33978149,  1.27305123,  1.38910668,  2.13401678,\n",
       "         2.13720303,  2.33476673,  1.84737005,  1.23441511,  1.10538931,\n",
       "         1.31697961,  1.40061988,  0.74774607,  0.61004353,  0.24875725,\n",
       "         0.32105324,  0.13155575,  0.08159895,  0.11774461,  0.        ,\n",
       "         0.        ,  0.        ,  0.        ,  0.        ,  0.        ,\n",
       "         0.        ,  0.        ,  0.        ,  0.        ,  0.        ,\n",
       "         0.        , -0.09482992,  0.        , -0.33926874, -0.26020431,\n",
       "        -0.38923043, -0.5430948 , -0.31200073, -0.26893869,  0.        ,\n",
       "        -0.25448454, -0.18612542,  0.        , -0.32207357,  0.        ,\n",
       "         0.        ,  0.        ,  0.        ,  0.        ,  0.        ,\n",
       "        -0.15914098, -0.16310396,  0.        ,  0.        ,  0.05075647,\n",
       "         0.05452739,  0.        , -0.59860853, -0.95327825, -0.57650992,\n",
       "        -0.6090365 , -0.59788125, -0.6576912 , -1.11324972, -1.53320833,\n",
       "        -1.61441938, -1.59404265, -1.64656484, -1.39579636, -1.49308368,\n",
       "        -1.22973304, -1.29618565, -1.4308842 , -1.69688615, -1.70639948,\n",
       "        -1.78889875, -2.06873117, -1.96811687, -1.87050587, -1.90042172,\n",
       "        -2.04567835, -2.06155158, -2.08982213, -2.06911027, -2.03804311,\n",
       "        -2.15495193, -2.04713927, -1.98914548, -1.97444811, -1.80045149,\n",
       "        -1.57507044, -1.6508004 , -1.65339798, -1.68128588, -1.64332117,\n",
       "        -1.47958311, -1.47789516, -1.38936558, -1.45713371, -1.6580481 ,\n",
       "        -1.80744059, -1.81667096, -2.11750033, -2.09081688, -2.24373453,\n",
       "        -2.23416469, -2.53958844, -2.6813577 , -2.85621545, -2.84763269,\n",
       "        -3.04580266, -3.39242856, -3.35724144, -3.65720027, -3.5994505 ,\n",
       "        -3.56817046, -3.77338125, -3.95070871, -3.88328719, -3.8589836 ,\n",
       "        -3.80405341, -3.94392342, -3.71129276, -3.50950582, -3.1071194 ,\n",
       "        -3.00871825, -3.01402991, -2.86058509, -2.92201787, -2.64853071,\n",
       "        -2.5454289 , -2.52182633, -2.15145216, -2.23199532, -1.9285076 ,\n",
       "        -1.95586463, -2.00175082, -1.5235236 , -1.41067077, -1.07635556,\n",
       "        -1.2922449 , -1.88127934, -1.95853254, -2.61002   , -2.94722775,\n",
       "        -3.06731699, -3.47683146, -2.56494116]])"
      ]
     },
     "execution_count": 115,
     "metadata": {},
     "output_type": "execute_result"
    }
   ],
   "source": [
    "weights"
   ]
  },
  {
   "cell_type": "code",
   "execution_count": null,
   "metadata": {},
   "outputs": [],
   "source": []
  }
 ],
 "metadata": {
  "kernelspec": {
   "display_name": "Python 3",
   "language": "python",
   "name": "python3"
  },
  "language_info": {
   "codemirror_mode": {
    "name": "ipython",
    "version": 3
   },
   "file_extension": ".py",
   "mimetype": "text/x-python",
   "name": "python",
   "nbconvert_exporter": "python",
   "pygments_lexer": "ipython3",
   "version": "3.7.3"
  }
 },
 "nbformat": 4,
 "nbformat_minor": 2
}
