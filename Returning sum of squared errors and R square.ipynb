{
 "cells": [
  {
   "cell_type": "code",
   "execution_count": 1,
   "metadata": {},
   "outputs": [],
   "source": [
    "from statistics import mean\n",
    "import numpy as np\n",
    "import matplotlib.pyplot as plt\n",
    "from matplotlib import style\n",
    "style.use('ggplot')"
   ]
  },
  {
   "cell_type": "code",
   "execution_count": 2,
   "metadata": {},
   "outputs": [],
   "source": [
    "x = np.array([1,2,3,4,5], dtype=np.float64)\n",
    "y = np.array([5,4,6,5,6], dtype=np.float64)"
   ]
  },
  {
   "cell_type": "code",
   "execution_count": 3,
   "metadata": {},
   "outputs": [],
   "source": [
    "def best_fit_slope_and_intercept(x,y):\n",
    "    m = (((mean(x)*mean(y)) - mean(x*y)) /\n",
    "         ((mean(x)*mean(x)) - mean(x*x)))\n",
    "    b = mean(y) - m*mean(x)\n",
    "    return m, b"
   ]
  },
  {
   "cell_type": "code",
   "execution_count": 4,
   "metadata": {},
   "outputs": [],
   "source": [
    "def squared_error(y_org,y_lin):\n",
    "    return sum((y_lin - y_org) * (y_lin - y_org))\n"
   ]
  },
  {
   "cell_type": "code",
   "execution_count": 5,
   "metadata": {},
   "outputs": [],
   "source": [
    "def coefficient_of_determination(y_org,y_lin):\n",
    "    y_mean = [mean(y_org) for y in y_org]\n",
    "    squared_errors = squared_error(y_org, y_lin)\n",
    "    squared_errors_y_mean = squared_error(y_org, y_mean)\n",
    "    return 1 - (squared_errors/squared_errors_y_mean)"
   ]
  },
  {
   "cell_type": "code",
   "execution_count": 6,
   "metadata": {},
   "outputs": [],
   "source": [
    "m, b = best_fit_slope_and_intercept(x,y)\n",
    "regression_line = [(m*xs)+b for xs in x]"
   ]
  },
  {
   "cell_type": "code",
   "execution_count": 7,
   "metadata": {},
   "outputs": [
    {
     "name": "stdout",
     "output_type": "stream",
     "text": [
      "0.3214285714285714\n"
     ]
    }
   ],
   "source": [
    "r_squared = coefficient_of_determination(y,regression_line)\n",
    "print(r_squared)"
   ]
  },
  {
   "cell_type": "code",
   "execution_count": 8,
   "metadata": {},
   "outputs": [
    {
     "data": {
      "text/plain": [
       "1.9"
      ]
     },
     "execution_count": 8,
     "metadata": {},
     "output_type": "execute_result"
    }
   ],
   "source": [
    "squared_error(y,regression_line)"
   ]
  }
 ],
 "metadata": {
  "kernelspec": {
   "display_name": "Python 3",
   "language": "python",
   "name": "python3"
  },
  "language_info": {
   "codemirror_mode": {
    "name": "ipython",
    "version": 3
   },
   "file_extension": ".py",
   "mimetype": "text/x-python",
   "name": "python",
   "nbconvert_exporter": "python",
   "pygments_lexer": "ipython3",
   "version": "3.7.3"
  }
 },
 "nbformat": 4,
 "nbformat_minor": 2
}
